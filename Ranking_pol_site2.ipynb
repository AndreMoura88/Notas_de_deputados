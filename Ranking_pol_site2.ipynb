{
 "cells": [
  {
   "cell_type": "markdown",
   "id": "b2c45e24",
   "metadata": {},
   "source": [
    "# Lista do site Ranking dos Políticos: https://www.politicos.org.br/"
   ]
  },
  {
   "cell_type": "markdown",
   "id": "a15b4328",
   "metadata": {},
   "source": [
    "Para o site politicos.org é preciso usar a biblioteca Selenium, pois alguns site utilizam o conceito conhecido como single page application, algumas aplicações desse tipo só criam a página web do lado do navegador. Então é necessário que o navegador faça a requisição para que o Html seja montado no momento que usuario pede. Nesses casos o BeautifulSoup não é suficiente, então recorre-se ao Selenium que é um navegador automatizado, um webdriver."
   ]
  },
  {
   "cell_type": "markdown",
   "id": "36a502c1",
   "metadata": {},
   "source": [
    "Checkpoints sugeridos:\n",
    "\n",
    "1) Coleta de dados via web scrapping. Bibliotecas como Selenium e BeautifulSoup podem ajudar.<br>\n",
    "<br>\n",
    "2) Análise exploratória: Gráficos de dispersão entre nota padronizada dos dois rankings. São correlacionados? Existem outliers?<br>\n",
    "<br>\n",
    "3) Modelo explicativo: Regressão linear múltipla entre os 4 itens do ranking do Legisla Brasil e a nota do Ranking dos Políticos, por exemplo. Os 4 itens do Legisla explicam qual variabilidade do Ranking dos Políticos?<br>\n",
    "<br>\n",
    "4) Discussão: Por que são diferentes? Por que são iguais? Existem viéses políticos? São apartidários? Qual sua opinião que justifique os resultados?<br>"
   ]
  },
  {
   "cell_type": "code",
   "execution_count": 2,
   "id": "12515fe2",
   "metadata": {},
   "outputs": [],
   "source": [
    "from bs4 import BeautifulSoup\n",
    "import requests \n",
    "import pandas as pd\n",
    "import numpy as np\n",
    "import re\n",
    "from unidecode import unidecode #retirar acentos\n",
    "from selenium import webdriver\n",
    "from selenium.webdriver.chrome.options import Options\n",
    "from selenium.webdriver.common.by import By\n",
    "from time import sleep"
   ]
  },
  {
   "cell_type": "code",
   "execution_count": 3,
   "id": "98a33f16",
   "metadata": {},
   "outputs": [],
   "source": [
    "# formatando a janela do chrome que irá ser usada na pesquisa do selenium\n",
    "options = Options()\n",
    "#options.add_argument('--headless') #utilizar quando não desejar que a página abra\n",
    "options.add_argument('window-size=400,800')\n",
    "options.page_load_strategy = 'eager'"
   ]
  },
  {
   "cell_type": "code",
   "execution_count": 4,
   "id": "16993b71",
   "metadata": {},
   "outputs": [],
   "source": [
    "# criando o driver\n",
    "\n",
    "navegador = webdriver.Chrome(options=options)\n",
    "\n",
    "navegador.get('https://www.politicos.org.br/Ranking')\n",
    "sleep(2)\n",
    "\n",
    "#click para aceitar os cookies\n",
    "navegador.find_element(By.XPATH, '//*[@class=\"mb-3\"]').click()\n",
    "\n",
    "lista_notas = []"
   ]
  },
  {
   "cell_type": "code",
   "execution_count": 5,
   "id": "b989db54",
   "metadata": {},
   "outputs": [],
   "source": [
    "#localizando o botão senador\n",
    "button_senador = navegador.find_elements(By.CSS_SELECTOR, \"span > h6\")[1]\n",
    "# Clicar no botão para senador\n",
    "button_senador.click()"
   ]
  },
  {
   "cell_type": "code",
   "execution_count": 6,
   "id": "c8d3e155",
   "metadata": {},
   "outputs": [],
   "source": [
    "#abrindo a página\n",
    "a = 50\n",
    "for n in range(a):\n",
    "    navegador.find_element(By.XPATH, \"/html/body/div/div[2]/div[2]/div/div/div/div[8]/div/div[2]/button\").click()\n",
    "    sleep(4)"
   ]
  },
  {
   "cell_type": "code",
   "execution_count": 7,
   "id": "8a619ae4",
   "metadata": {},
   "outputs": [],
   "source": [
    "# criando lista para notas e nomes\n",
    "lista_final = []"
   ]
  },
  {
   "cell_type": "code",
   "execution_count": 8,
   "id": "485f557a",
   "metadata": {},
   "outputs": [],
   "source": [
    "#lista temporária\n",
    "lista_nome_notas = []\n",
    "# pegando os dados dos candidatos na pag totalmente aberta\n",
    "html_informacoes = navegador.find_elements(By.CSS_SELECTOR, 'button > div > div > div > div > h2')\n",
    "# gerando a lista de notas e nomes\n",
    "for x in range(0, len(html_informacoes)):\n",
    "    lista_nome_notas.append(html_informacoes[x].text)"
   ]
  },
  {
   "cell_type": "code",
   "execution_count": 9,
   "id": "6800ce92",
   "metadata": {},
   "outputs": [],
   "source": [
    "# dividindo para cada candidato\n",
    "for i in range(0, len(lista_nome_notas), 3):\n",
    "    lista_final.append(lista_nome_notas[i:i + 3])"
   ]
  },
  {
   "cell_type": "code",
   "execution_count": 10,
   "id": "5310f11c",
   "metadata": {},
   "outputs": [],
   "source": [
    "# formatando lista\n",
    "for n in range(len(lista_final)):\n",
    "    lista_final[n][0] = unidecode(lista_final[n][0]).lower()\n",
    "    lista_final[n][2] = float(lista_final[n][2].replace(',', '.'))\n",
    "    del lista_final[n][1]"
   ]
  },
  {
   "cell_type": "code",
   "execution_count": 11,
   "id": "7385a441",
   "metadata": {},
   "outputs": [],
   "source": [
    "df_site2 = pd.DataFrame(lista_final, columns = ['nome', 'nota'])"
   ]
  },
  {
   "cell_type": "code",
   "execution_count": 12,
   "id": "1a6c4666",
   "metadata": {
    "scrolled": false
   },
   "outputs": [
    {
     "data": {
      "text/html": [
       "<div>\n",
       "<style scoped>\n",
       "    .dataframe tbody tr th:only-of-type {\n",
       "        vertical-align: middle;\n",
       "    }\n",
       "\n",
       "    .dataframe tbody tr th {\n",
       "        vertical-align: top;\n",
       "    }\n",
       "\n",
       "    .dataframe thead th {\n",
       "        text-align: right;\n",
       "    }\n",
       "</style>\n",
       "<table border=\"1\" class=\"dataframe\">\n",
       "  <thead>\n",
       "    <tr style=\"text-align: right;\">\n",
       "      <th></th>\n",
       "      <th>nome</th>\n",
       "      <th>nota</th>\n",
       "    </tr>\n",
       "  </thead>\n",
       "  <tbody>\n",
       "    <tr>\n",
       "      <th>183</th>\n",
       "      <td>abou anni</td>\n",
       "      <td>6.55</td>\n",
       "    </tr>\n",
       "    <tr>\n",
       "      <th>280</th>\n",
       "      <td>acacio favacho</td>\n",
       "      <td>6.12</td>\n",
       "    </tr>\n",
       "    <tr>\n",
       "      <th>133</th>\n",
       "      <td>adolfo viana</td>\n",
       "      <td>6.82</td>\n",
       "    </tr>\n",
       "    <tr>\n",
       "      <th>1</th>\n",
       "      <td>adriana ventura</td>\n",
       "      <td>8.24</td>\n",
       "    </tr>\n",
       "    <tr>\n",
       "      <th>134</th>\n",
       "      <td>adriano do baldy</td>\n",
       "      <td>6.82</td>\n",
       "    </tr>\n",
       "    <tr>\n",
       "      <th>...</th>\n",
       "      <td>...</td>\n",
       "      <td>...</td>\n",
       "    </tr>\n",
       "    <tr>\n",
       "      <th>462</th>\n",
       "      <td>ze carlos</td>\n",
       "      <td>2.78</td>\n",
       "    </tr>\n",
       "    <tr>\n",
       "      <th>425</th>\n",
       "      <td>ze neto</td>\n",
       "      <td>3.20</td>\n",
       "    </tr>\n",
       "    <tr>\n",
       "      <th>207</th>\n",
       "      <td>ze silva</td>\n",
       "      <td>6.47</td>\n",
       "    </tr>\n",
       "    <tr>\n",
       "      <th>266</th>\n",
       "      <td>ze vitor</td>\n",
       "      <td>6.22</td>\n",
       "    </tr>\n",
       "    <tr>\n",
       "      <th>450</th>\n",
       "      <td>zeca dirceu</td>\n",
       "      <td>2.91</td>\n",
       "    </tr>\n",
       "  </tbody>\n",
       "</table>\n",
       "<p>497 rows × 2 columns</p>\n",
       "</div>"
      ],
      "text/plain": [
       "                 nome  nota\n",
       "183         abou anni  6.55\n",
       "280    acacio favacho  6.12\n",
       "133      adolfo viana  6.82\n",
       "1     adriana ventura  8.24\n",
       "134  adriano do baldy  6.82\n",
       "..                ...   ...\n",
       "462         ze carlos  2.78\n",
       "425           ze neto  3.20\n",
       "207          ze silva  6.47\n",
       "266          ze vitor  6.22\n",
       "450       zeca dirceu  2.91\n",
       "\n",
       "[497 rows x 2 columns]"
      ]
     },
     "execution_count": 12,
     "metadata": {},
     "output_type": "execute_result"
    }
   ],
   "source": [
    "df_site2 = df_site2.sort_values(by=['nome'])\n",
    "df_site2"
   ]
  },
  {
   "cell_type": "code",
   "execution_count": 52,
   "id": "f87bc759",
   "metadata": {},
   "outputs": [],
   "source": [
    "#salvando o df em arquivo .csv\n",
    "df_site2.to_csv('df_site2.csv', index = False)"
   ]
  },
  {
   "cell_type": "code",
   "execution_count": 13,
   "id": "7b462b44",
   "metadata": {},
   "outputs": [],
   "source": [
    "#importanto lista gerada para o site legislabr\n",
    "df_site1 = pd.read_csv('rank_legislabr_completo.csv') "
   ]
  },
  {
   "cell_type": "code",
   "execution_count": 14,
   "id": "e11ea312",
   "metadata": {},
   "outputs": [],
   "source": [
    "# formatando\n",
    "df_site1 = df_site1.drop(columns=['Unnamed: 0'])"
   ]
  },
  {
   "cell_type": "code",
   "execution_count": 15,
   "id": "b66d8aad",
   "metadata": {},
   "outputs": [
    {
     "data": {
      "text/html": [
       "<div>\n",
       "<style scoped>\n",
       "    .dataframe tbody tr th:only-of-type {\n",
       "        vertical-align: middle;\n",
       "    }\n",
       "\n",
       "    .dataframe tbody tr th {\n",
       "        vertical-align: top;\n",
       "    }\n",
       "\n",
       "    .dataframe thead th {\n",
       "        text-align: right;\n",
       "    }\n",
       "</style>\n",
       "<table border=\"1\" class=\"dataframe\">\n",
       "  <thead>\n",
       "    <tr style=\"text-align: right;\">\n",
       "      <th></th>\n",
       "      <th>nome</th>\n",
       "      <th>estado</th>\n",
       "      <th>partido</th>\n",
       "      <th>n_prod_leg</th>\n",
       "      <th>n_fisc</th>\n",
       "      <th>n_mobi</th>\n",
       "      <th>n_alin_partd</th>\n",
       "    </tr>\n",
       "  </thead>\n",
       "  <tbody>\n",
       "    <tr>\n",
       "      <th>0</th>\n",
       "      <td>abilio santana</td>\n",
       "      <td>Bahia</td>\n",
       "      <td>PSC</td>\n",
       "      <td>1.7</td>\n",
       "      <td>0.0</td>\n",
       "      <td>0.9</td>\n",
       "      <td>9.1</td>\n",
       "    </tr>\n",
       "    <tr>\n",
       "      <th>1</th>\n",
       "      <td>abou anni</td>\n",
       "      <td>São Paulo</td>\n",
       "      <td>UNIÃO</td>\n",
       "      <td>3.8</td>\n",
       "      <td>0.9</td>\n",
       "      <td>2.4</td>\n",
       "      <td>6.4</td>\n",
       "    </tr>\n",
       "    <tr>\n",
       "      <th>2</th>\n",
       "      <td>acacio favacho</td>\n",
       "      <td>Amapá</td>\n",
       "      <td>MDB</td>\n",
       "      <td>2.6</td>\n",
       "      <td>0.2</td>\n",
       "      <td>2.1</td>\n",
       "      <td>6.4</td>\n",
       "    </tr>\n",
       "    <tr>\n",
       "      <th>3</th>\n",
       "      <td>adolfo viana</td>\n",
       "      <td>Bahia</td>\n",
       "      <td>PSDB</td>\n",
       "      <td>2.8</td>\n",
       "      <td>0.9</td>\n",
       "      <td>2.4</td>\n",
       "      <td>5.5</td>\n",
       "    </tr>\n",
       "    <tr>\n",
       "      <th>4</th>\n",
       "      <td>adriana ventura</td>\n",
       "      <td>São Paulo</td>\n",
       "      <td>NOVO</td>\n",
       "      <td>6.4</td>\n",
       "      <td>2.9</td>\n",
       "      <td>7.3</td>\n",
       "      <td>10.0</td>\n",
       "    </tr>\n",
       "    <tr>\n",
       "      <th>...</th>\n",
       "      <td>...</td>\n",
       "      <td>...</td>\n",
       "      <td>...</td>\n",
       "      <td>...</td>\n",
       "      <td>...</td>\n",
       "      <td>...</td>\n",
       "      <td>...</td>\n",
       "    </tr>\n",
       "    <tr>\n",
       "      <th>561</th>\n",
       "      <td>ze carlos</td>\n",
       "      <td>Maranhão</td>\n",
       "      <td>PT</td>\n",
       "      <td>3.1</td>\n",
       "      <td>2.0</td>\n",
       "      <td>6.4</td>\n",
       "      <td>7.3</td>\n",
       "    </tr>\n",
       "    <tr>\n",
       "      <th>562</th>\n",
       "      <td>ze neto</td>\n",
       "      <td>Bahia</td>\n",
       "      <td>PT</td>\n",
       "      <td>4.2</td>\n",
       "      <td>1.1</td>\n",
       "      <td>5.5</td>\n",
       "      <td>7.3</td>\n",
       "    </tr>\n",
       "    <tr>\n",
       "      <th>563</th>\n",
       "      <td>ze silva</td>\n",
       "      <td>Minas Gerais</td>\n",
       "      <td>SOLIDARIEDADE</td>\n",
       "      <td>4.3</td>\n",
       "      <td>0.5</td>\n",
       "      <td>3.6</td>\n",
       "      <td>6.4</td>\n",
       "    </tr>\n",
       "    <tr>\n",
       "      <th>564</th>\n",
       "      <td>ze vitor</td>\n",
       "      <td>Minas Gerais</td>\n",
       "      <td>PL</td>\n",
       "      <td>5.8</td>\n",
       "      <td>1.8</td>\n",
       "      <td>4.5</td>\n",
       "      <td>6.4</td>\n",
       "    </tr>\n",
       "    <tr>\n",
       "      <th>565</th>\n",
       "      <td>zeca dirceu</td>\n",
       "      <td>Paraná</td>\n",
       "      <td>PT</td>\n",
       "      <td>3.2</td>\n",
       "      <td>3.1</td>\n",
       "      <td>4.5</td>\n",
       "      <td>8.2</td>\n",
       "    </tr>\n",
       "  </tbody>\n",
       "</table>\n",
       "<p>566 rows × 7 columns</p>\n",
       "</div>"
      ],
      "text/plain": [
       "                nome        estado        partido  n_prod_leg  n_fisc  n_mobi  \\\n",
       "0     abilio santana         Bahia            PSC         1.7     0.0     0.9   \n",
       "1          abou anni     São Paulo          UNIÃO         3.8     0.9     2.4   \n",
       "2     acacio favacho         Amapá            MDB         2.6     0.2     2.1   \n",
       "3       adolfo viana         Bahia           PSDB         2.8     0.9     2.4   \n",
       "4    adriana ventura     São Paulo           NOVO         6.4     2.9     7.3   \n",
       "..               ...           ...            ...         ...     ...     ...   \n",
       "561        ze carlos      Maranhão             PT         3.1     2.0     6.4   \n",
       "562          ze neto         Bahia             PT         4.2     1.1     5.5   \n",
       "563         ze silva  Minas Gerais  SOLIDARIEDADE         4.3     0.5     3.6   \n",
       "564         ze vitor  Minas Gerais             PL         5.8     1.8     4.5   \n",
       "565      zeca dirceu        Paraná             PT         3.2     3.1     4.5   \n",
       "\n",
       "     n_alin_partd  \n",
       "0             9.1  \n",
       "1             6.4  \n",
       "2             6.4  \n",
       "3             5.5  \n",
       "4            10.0  \n",
       "..            ...  \n",
       "561           7.3  \n",
       "562           7.3  \n",
       "563           6.4  \n",
       "564           6.4  \n",
       "565           8.2  \n",
       "\n",
       "[566 rows x 7 columns]"
      ]
     },
     "execution_count": 15,
     "metadata": {},
     "output_type": "execute_result"
    }
   ],
   "source": [
    "df_site1"
   ]
  },
  {
   "cell_type": "code",
   "execution_count": 16,
   "id": "4acae08d",
   "metadata": {},
   "outputs": [],
   "source": [
    "# Unindo as duas colunas\n",
    "df_3 = pd.merge(df_site1, df_site2,  how='left')\n"
   ]
  },
  {
   "cell_type": "code",
   "execution_count": 53,
   "id": "e9213aa3",
   "metadata": {},
   "outputs": [],
   "source": [
    "# salvando o dataframe resultado da união dos dataframes dos sites buscados\n",
    "df_3.to_csv('df_merge.csv', index = False)"
   ]
  },
  {
   "cell_type": "code",
   "execution_count": 49,
   "id": "48c726c8",
   "metadata": {},
   "outputs": [],
   "source": [
    "# verificando as linhas diferentes entre os dois dataframes\n",
    "candidatos_n_exercicio = pd.concat([df_site1['nome'],df_site2['nome']]).drop_duplicates(keep=False)"
   ]
  },
  {
   "cell_type": "code",
   "execution_count": 50,
   "id": "bb6e2292",
   "metadata": {
    "collapsed": true
   },
   "outputs": [
    {
     "data": {
      "text/plain": [
       "['abilio santana',\n",
       " 'aguinaldo ribeiro',\n",
       " 'alan rick',\n",
       " 'alexandre serfiotis',\n",
       " 'anibal gomes',\n",
       " 'assis carvalho',\n",
       " 'bia cavassa',\n",
       " 'boca aberta',\n",
       " 'darcisio perondi',\n",
       " 'deuzinho filho',\n",
       " 'dr. goncalo',\n",
       " 'dr. joao',\n",
       " 'dr. sinval malheiros',\n",
       " 'edmilson rodrigues',\n",
       " 'eduardo braide',\n",
       " 'ely santos',\n",
       " 'eneias reis',\n",
       " 'fabiano tolentino',\n",
       " 'fabio faria',\n",
       " 'fabio mitidieri',\n",
       " 'fernando borja',\n",
       " 'flordelis',\n",
       " 'gastao vieira',\n",
       " 'gorete pereira',\n",
       " 'henrique do paraiso',\n",
       " 'joao h. campos',\n",
       " 'jorge goetten',\n",
       " 'jose nunes',\n",
       " 'julio lopes',\n",
       " 'laura carneiro',\n",
       " 'leonardo gadelha',\n",
       " 'leonardo picciani',\n",
       " 'luiz flavio gomes',\n",
       " 'manuel marcos',\n",
       " 'marcao gomes',\n",
       " 'marcelo brum',\n",
       " 'marcelo moraes',\n",
       " 'marcio jerry',\n",
       " 'margarida salomao',\n",
       " 'mariana carvalho',\n",
       " 'miguel haddad',\n",
       " 'moses rodrigues',\n",
       " 'nelson pellegrino',\n",
       " 'ney leprevost',\n",
       " 'nilson f. stainsack',\n",
       " 'norma pereira',\n",
       " 'odorico monteiro',\n",
       " 'osires damaso',\n",
       " 'otavio leite',\n",
       " 'paes landim',\n",
       " 'patrick dorneles',\n",
       " 'paulo marinho jr',\n",
       " 'paulo vicente caleffi',\n",
       " 'pedro dalua',\n",
       " 'professora dorinha seabra rezende',\n",
       " 'rachel marques',\n",
       " 'rafafa',\n",
       " 'reinhold stephanes junior',\n",
       " 'renata abreu',\n",
       " 'ricardo pericar',\n",
       " 'roberto pessoa',\n",
       " 'rodrigo maia',\n",
       " 'santini',\n",
       " 'schiavinato',\n",
       " 'sergio vidigal',\n",
       " 'simplicio araujo',\n",
       " 'ted conti',\n",
       " 'tereza cristina',\n",
       " 'tia eron',\n",
       " 'totonho lopes',\n",
       " 'vaidon oliveira',\n",
       " 'valdevan noventa',\n",
       " 'valtenir pereira',\n",
       " 'victor mendes',\n",
       " 'vinicius gurgel',\n",
       " 'vitor hugo',\n",
       " 'wladimir garotinho',\n",
       " 'ze augusto nalin',\n",
       " 'alencar santana',\n",
       " 'bozzella',\n",
       " 'capitao derrite',\n",
       " 'glaustin da fokus',\n",
       " 'josias gomes',\n",
       " 'major vitor hugo',\n",
       " 'osmar serraglio',\n",
       " 'paulinho da forca',\n",
       " 'paulo foletto']"
      ]
     },
     "execution_count": 50,
     "metadata": {},
     "output_type": "execute_result"
    }
   ],
   "source": [
    "#candidatos não listados nos dois sites\n",
    "list(candidatos_n_exercicio)"
   ]
  },
  {
   "cell_type": "code",
   "execution_count": 47,
   "id": "00ff3acd",
   "metadata": {},
   "outputs": [
    {
     "name": "stdout",
     "output_type": "stream",
     "text": [
      "Pandas(Index=50, nome='ale silva', nota=7.39)\n",
      "Pandas(Index=464, nome='benedita da silva', nota=2.78)\n",
      "Pandas(Index=488, nome='orlando silva', nota=2.5)\n",
      "Pandas(Index=258, nome='ossesio silva', nota=6.25)\n",
      "Pandas(Index=235, nome='ricardo silva', nota=6.33)\n",
      "Pandas(Index=207, nome='ze silva', nota=6.47)\n"
     ]
    }
   ],
   "source": [
    "# encontrar linhas que não estão presentes nos dois dataframes\n",
    "for x in df_site2.itertuples():\n",
    "    if x[1].find('silva') != -1:\n",
    "        print(x)"
   ]
  }
 ],
 "metadata": {
  "kernelspec": {
   "display_name": "Python 3 (ipykernel)",
   "language": "python",
   "name": "python3"
  },
  "language_info": {
   "codemirror_mode": {
    "name": "ipython",
    "version": 3
   },
   "file_extension": ".py",
   "mimetype": "text/x-python",
   "name": "python",
   "nbconvert_exporter": "python",
   "pygments_lexer": "ipython3",
   "version": "3.9.7"
  }
 },
 "nbformat": 4,
 "nbformat_minor": 5
}
