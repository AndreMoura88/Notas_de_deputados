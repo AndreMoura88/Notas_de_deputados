{
 "cells": [
  {
   "cell_type": "markdown",
   "id": "3e42f76e",
   "metadata": {},
   "source": [
    "Checkpoints sugeridos:\n",
    "\n",
    "1) Coleta de dados via web scrapping. Bibliotecas como Selenium e BeautifulSoup podem ajudar. <br>\n",
    "<br>\n",
    "2) Análise exploratória: Gráficos de dispersão entre nota padronizada dos dois rankings. São correlacionados? Existem outliers?<br>\n",
    "<br>\n",
    "3) Modelo explicativo: Regressão linear múltipla entre os 4 itens do ranking do Legisla Brasil e a nota do Ranking dos Políticos, por exemplo. Os 4 itens do Legisla explicam qual variabilidade do Ranking dos Políticos?<br>\n",
    "<br>\n",
    "4) Discussão: Por que são diferentes? Por que são iguais? Existem viéses políticos? São apartidários? Qual sua opinião que justifique os resultados?"
   ]
  },
  {
   "cell_type": "markdown",
   "id": "174dc9cd",
   "metadata": {},
   "source": [
    "### Tratamento dos dados dos dois sites"
   ]
  },
  {
   "cell_type": "code",
   "execution_count": 1,
   "id": "d071f869",
   "metadata": {},
   "outputs": [],
   "source": [
    "import pandas as pd\n",
    "import numpy as np\n",
    "import re\n",
    "from unidecode import unidecode #retirar acentos\n",
    "import requests \n",
    "import re\n",
    "import seaborn as sns\n",
    "import matplotlib.pyplot as plt\n",
    "%matplotlib inline "
   ]
  },
  {
   "cell_type": "code",
   "execution_count": 2,
   "id": "b532af58",
   "metadata": {},
   "outputs": [],
   "source": [
    "#leitura dos dados\n",
    "df_site1 = pd.read_csv('rank_legislabr_completo.csv') \n",
    "df_site2 = pd.read_csv('df_site2.csv')\n",
    "df_merge = pd.read_csv('df_merge.csv')"
   ]
  },
  {
   "cell_type": "code",
   "execution_count": 3,
   "id": "c4e1775d",
   "metadata": {},
   "outputs": [],
   "source": [
    "#tratamento inicial dos dataframes\n",
    "del df_site1['Unnamed: 0']"
   ]
  },
  {
   "cell_type": "code",
   "execution_count": 12,
   "id": "d78f753a",
   "metadata": {},
   "outputs": [],
   "source": [
    "# criando novo dataframe sem valores não comuns entre as tabelas\n",
    "df_3 = pd.merge(df_site1, df_site2)\n",
    "df_3 = df_3.rename(columns={'nota': 'nota_site2'})"
   ]
  },
  {
   "cell_type": "markdown",
   "id": "1cba606c",
   "metadata": {},
   "source": [
    "Foi verificado que alguns (78) deputados não estão presentes na lista dos dois sites, <br>\n",
    "sendo assim foi optado por removê-los da análise."
   ]
  },
  {
   "cell_type": "code",
   "execution_count": 49,
   "id": "fe55c2ec",
   "metadata": {},
   "outputs": [],
   "source": [
    "#df_3"
   ]
  },
  {
   "cell_type": "code",
   "execution_count": 14,
   "id": "a6fa5c23",
   "metadata": {},
   "outputs": [],
   "source": [
    "# criando coluna com o valor da média ponderada entre as notas do primeiro site\n",
    "df_3.insert(7, 'avg_site1', (df_3['n_prod_leg']*8 + df_3['n_fisc']*5 + df_3['n_mobi']*3 + df_3['n_alin_partd']*1)/17)"
   ]
  },
  {
   "cell_type": "code",
   "execution_count": 50,
   "id": "0fde08ca",
   "metadata": {
    "scrolled": true
   },
   "outputs": [
    {
     "data": {
      "text/html": [
       "<div>\n",
       "<style scoped>\n",
       "    .dataframe tbody tr th:only-of-type {\n",
       "        vertical-align: middle;\n",
       "    }\n",
       "\n",
       "    .dataframe tbody tr th {\n",
       "        vertical-align: top;\n",
       "    }\n",
       "\n",
       "    .dataframe thead th {\n",
       "        text-align: right;\n",
       "    }\n",
       "</style>\n",
       "<table border=\"1\" class=\"dataframe\">\n",
       "  <thead>\n",
       "    <tr style=\"text-align: right;\">\n",
       "      <th></th>\n",
       "      <th>nome</th>\n",
       "      <th>estado</th>\n",
       "      <th>partido</th>\n",
       "      <th>ideologia</th>\n",
       "      <th>n_prod_leg</th>\n",
       "      <th>n_fisc</th>\n",
       "      <th>n_mobi</th>\n",
       "      <th>n_alin_partd</th>\n",
       "      <th>avg_site1</th>\n",
       "      <th>nota_site2</th>\n",
       "    </tr>\n",
       "  </thead>\n",
       "  <tbody>\n",
       "    <tr>\n",
       "      <th>0</th>\n",
       "      <td>abou anni</td>\n",
       "      <td>São Paulo</td>\n",
       "      <td>UNIÃO</td>\n",
       "      <td>direita</td>\n",
       "      <td>3.8</td>\n",
       "      <td>0.9</td>\n",
       "      <td>2.4</td>\n",
       "      <td>6.4</td>\n",
       "      <td>2.852941</td>\n",
       "      <td>6.55</td>\n",
       "    </tr>\n",
       "    <tr>\n",
       "      <th>1</th>\n",
       "      <td>acacio favacho</td>\n",
       "      <td>Amapá</td>\n",
       "      <td>MDB</td>\n",
       "      <td>centro</td>\n",
       "      <td>2.6</td>\n",
       "      <td>0.2</td>\n",
       "      <td>2.1</td>\n",
       "      <td>6.4</td>\n",
       "      <td>2.029412</td>\n",
       "      <td>6.12</td>\n",
       "    </tr>\n",
       "    <tr>\n",
       "      <th>2</th>\n",
       "      <td>adolfo viana</td>\n",
       "      <td>Bahia</td>\n",
       "      <td>PSDB</td>\n",
       "      <td>centro</td>\n",
       "      <td>2.8</td>\n",
       "      <td>0.9</td>\n",
       "      <td>2.4</td>\n",
       "      <td>5.5</td>\n",
       "      <td>2.329412</td>\n",
       "      <td>6.82</td>\n",
       "    </tr>\n",
       "    <tr>\n",
       "      <th>3</th>\n",
       "      <td>adriana ventura</td>\n",
       "      <td>São Paulo</td>\n",
       "      <td>NOVO</td>\n",
       "      <td>direita</td>\n",
       "      <td>6.4</td>\n",
       "      <td>2.9</td>\n",
       "      <td>7.3</td>\n",
       "      <td>10.0</td>\n",
       "      <td>5.741176</td>\n",
       "      <td>8.24</td>\n",
       "    </tr>\n",
       "    <tr>\n",
       "      <th>4</th>\n",
       "      <td>adriano do baldy</td>\n",
       "      <td>Goiás</td>\n",
       "      <td>PP</td>\n",
       "      <td>direita</td>\n",
       "      <td>2.3</td>\n",
       "      <td>0.0</td>\n",
       "      <td>2.1</td>\n",
       "      <td>10.0</td>\n",
       "      <td>2.041176</td>\n",
       "      <td>6.82</td>\n",
       "    </tr>\n",
       "  </tbody>\n",
       "</table>\n",
       "</div>"
      ],
      "text/plain": [
       "               nome     estado partido ideologia  n_prod_leg  n_fisc  n_mobi  \\\n",
       "0         abou anni  São Paulo   UNIÃO   direita         3.8     0.9     2.4   \n",
       "1    acacio favacho      Amapá     MDB    centro         2.6     0.2     2.1   \n",
       "2      adolfo viana      Bahia    PSDB    centro         2.8     0.9     2.4   \n",
       "3   adriana ventura  São Paulo    NOVO   direita         6.4     2.9     7.3   \n",
       "4  adriano do baldy      Goiás      PP   direita         2.3     0.0     2.1   \n",
       "\n",
       "   n_alin_partd  avg_site1  nota_site2  \n",
       "0           6.4   2.852941        6.55  \n",
       "1           6.4   2.029412        6.12  \n",
       "2           5.5   2.329412        6.82  \n",
       "3          10.0   5.741176        8.24  \n",
       "4          10.0   2.041176        6.82  "
      ]
     },
     "execution_count": 50,
     "metadata": {},
     "output_type": "execute_result"
    }
   ],
   "source": [
    "df_3.head()"
   ]
  },
  {
   "cell_type": "markdown",
   "id": "5141db13",
   "metadata": {},
   "source": [
    "Através da análise bivariada entre a média do site 1 (https://indice.legislabrasil.org/public/) e o site 2 (https://www.politicos.org.br/) há indicios que mostram uma correlação negativa entre eles. Ou seja, deputados que tem nota alta no site 1 tendem a ter nota baixa no site 2 e vice-versa."
   ]
  },
  {
   "cell_type": "code",
   "execution_count": 19,
   "id": "2313fb38",
   "metadata": {
    "scrolled": true
   },
   "outputs": [
    {
     "data": {
      "image/png": "[encoded data removed]",
      "text/plain": [
       "<Figure size 1080x720 with 1 Axes>"
      ]
     },
     "metadata": {
      "needs_background": "light"
     },
     "output_type": "display_data"
    }
   ],
   "source": [
    "ax1 = df_3.plot(kind='scatter', x='avg_site1', y='nota_site2', color='r')    \n",
    "#ax2 = df_3.plot(kind='scatter', x='n_fisc', y='nota_site2', color='g', ax=ax1)    \n",
    "#ax3 = df_3.plot(kind='scatter', x='n_mobi', y='nota_site2', color='b', ax=ax1)\n",
    "#ax4 = df_3.plot(kind='scatter', x='n_alin_partd', y='nota_site2', color='black', ax=ax1)\n",
    "plt.rcParams['figure.figsize'] = (15,10)\n",
    "#plt.figure(figsize=(10, 10)) \n",
    "plt.show()"
   ]
  },
  {
   "cell_type": "markdown",
   "id": "92cd7c40",
   "metadata": {},
   "source": [
    "Um quesito chamou a atenção nessa análise. Detectou-se uma certa subjetividade adota pelo site 2 quando propõe notas baseada no direcionamento de um conselho do próprio. Algumas notas são compostas de acordo com \"o posicionamento dos parlamentares nas principais votações do Congresso\". Segundo o site \"O aproveitamento de acerto nos votos reflete a nota do político neste critério\". Apesar do Conselho ser composto por 32 pessoas não é exposto como ele é formado, qual a diversidade do corpo, se é representativo com a população interessada, no caso a população brasileira. Deixando parecer que o certo ou errado na votação do candidato pode representar uma nota enviesada. \n",
    "<br>\n",
    "<br>\n",
    "Com isso surgiu a curiosidade de verificar a nota por ideologia do partido dos deputados. Em resumo, classificando o partido em Esquerda, Centro e Direita.\n",
    "<br>\n"
   ]
  },
  {
   "cell_type": "markdown",
   "id": "8ba7e316",
   "metadata": {},
   "source": [
    "### Criando nova coluna para classificação ideólogica dos partidos. <br>\n",
    "Para tal, foi utilizida classificação dada pelo jornal Folha na seguinte matéria:\n",
    "https://www1.folha.uol.com.br/poder/2022/09/o-que-faz-um-partido-ser-de-direita-ou-esquerda-folha-cria-metrica-que-posiciona-legendas.shtml\n",
    "    \n",
    "Esse ranking levou em consideração o comportamento do partido de acordo com 7 quesitos: \n",
    "Votação dos deputados na legenda da câmara; coligações; autodeclaração dos congressistas; \n",
    "frente parlamentares, opinião de especialistas, migração partidária e o \n",
    "posicionamento no GPS Ideológico da Folha (baseado em seguidores do Twitter, atualizado em 2022).\n",
    "A classificação ficou a seguinte: <br>\n",
    "<br>\n",
    "Esquerda: PCO, PSTU, PSOL, UP, PT, PCB, REDE, PCdoB, PSB, PV e PDT<br>\n",
    "<br>\n",
    "Centro: Solidariedade, Cidadania, Avante, PSD, PROS, MDB, Agir, PSDB, Podemos e PMN<br>\n",
    "<br>\n",
    "Direita: Rebuplicanos, DC, PRTB, PMB, PP, PTB, União, Patriota, PSC, PL e Novo<br>\n",
    "<br>\n",
    "<br>\n",
    "As listas foram reduzidas a somente partidos contidos nos dataset gerados pelo webscraping."
   ]
  },
  {
   "cell_type": "code",
   "execution_count": 25,
   "id": "8ea1cddb",
   "metadata": {
    "scrolled": false
   },
   "outputs": [],
   "source": [
    "esquerda = ['PSOL', 'PT', 'REDE', 'PCdoB', 'PSB', 'PV', 'PDT']\n",
    "centro = ['SOLIDARIEDADE', 'CIDADANIA', 'AVANTE', 'PSD', 'PROS', 'MDB', 'PSDB', 'PODE']\n",
    "direita = ['REPUBLICANOS', 'PP', 'PTB', 'UNIÃO', 'PATRIOTA', 'PSC', 'PL', 'NOVO']\n",
    "\n",
    "b = list(df_3['partido'])\n",
    "ideologia = []\n",
    "for x in b:\n",
    "    if x in esquerda:\n",
    "        #print('esquerda')\n",
    "        ideologia.append('esquerda')\n",
    "    elif x in direita:\n",
    "        #print('direita')\n",
    "        ideologia.append('direita')\n",
    "    else:\n",
    "        ideologia.append('centro')\n",
    "\n",
    "df_3.insert(3, 'ideologia', ideologia)"
   ]
  },
  {
   "cell_type": "markdown",
   "id": "ba309abb",
   "metadata": {},
   "source": [
    "Graficamente também fica visível a suposição anteriormente feita"
   ]
  },
  {
   "cell_type": "code",
   "execution_count": 42,
   "id": "37faf830",
   "metadata": {},
   "outputs": [
    {
     "data": {
      "image/png": "[encoded data removed]",
      "text/plain": [
       "<Figure size 1080x720 with 1 Axes>"
      ]
     },
     "metadata": {
      "needs_background": "light"
     },
     "output_type": "display_data"
    }
   ],
   "source": [
    "#boxplot\n",
    "plt.title('Partido x Site2')\n",
    "graph_boxp = sns.boxplot(data=df_3, x='partido', y='nota_site2', hue = df_3['ideologia'], palette=[\"blue\", \"green\", \"red\"])\n",
    "graph_boxp.set_xlabel(\"Partidos\",fontsize=20)\n",
    "graph_boxp.set_ylabel(\"Notas Site 2\",fontsize=20)\n",
    "plt.xticks(rotation=90, size=15)\n",
    "plt.yticks(size=15)\n",
    "plt.legend(bbox_to_anchor=(1.02, 1), loc='upper left', borderaxespad=0)\n",
    "plt.rcParams['figure.figsize'] = (15,10)\n",
    "plt.show()"
   ]
  },
  {
   "cell_type": "markdown",
   "id": "b256f8e1",
   "metadata": {},
   "source": [
    "Comparando a média por ideologia também é constatado que Centro e Direita tem notas similares e opostas a Esquerda. No site 1 o primeiro grupo tem notas mais baixas que o segundo grupo, acontecendo o inverso no site 2."
   ]
  },
  {
   "cell_type": "code",
   "execution_count": 48,
   "id": "62724544",
   "metadata": {
    "scrolled": true
   },
   "outputs": [
    {
     "data": {
      "text/html": [
       "<div>\n",
       "<style scoped>\n",
       "    .dataframe tbody tr th:only-of-type {\n",
       "        vertical-align: middle;\n",
       "    }\n",
       "\n",
       "    .dataframe tbody tr th {\n",
       "        vertical-align: top;\n",
       "    }\n",
       "\n",
       "    .dataframe thead th {\n",
       "        text-align: right;\n",
       "    }\n",
       "</style>\n",
       "<table border=\"1\" class=\"dataframe\">\n",
       "  <thead>\n",
       "    <tr style=\"text-align: right;\">\n",
       "      <th></th>\n",
       "      <th>avg_site1</th>\n",
       "      <th>nota_site2</th>\n",
       "    </tr>\n",
       "    <tr>\n",
       "      <th>ideologia</th>\n",
       "      <th></th>\n",
       "      <th></th>\n",
       "    </tr>\n",
       "  </thead>\n",
       "  <tbody>\n",
       "    <tr>\n",
       "      <th>centro</th>\n",
       "      <td>2.750615</td>\n",
       "      <td>6.406418</td>\n",
       "    </tr>\n",
       "    <tr>\n",
       "      <th>direita</th>\n",
       "      <td>2.971302</td>\n",
       "      <td>6.540544</td>\n",
       "    </tr>\n",
       "    <tr>\n",
       "      <th>esquerda</th>\n",
       "      <td>4.370895</td>\n",
       "      <td>3.322435</td>\n",
       "    </tr>\n",
       "  </tbody>\n",
       "</table>\n",
       "</div>"
      ],
      "text/plain": [
       "           avg_site1  nota_site2\n",
       "ideologia                       \n",
       "centro      2.750615    6.406418\n",
       "direita     2.971302    6.540544\n",
       "esquerda    4.370895    3.322435"
      ]
     },
     "execution_count": 48,
     "metadata": {},
     "output_type": "execute_result"
    }
   ],
   "source": [
    "#df_3.groupby(['partido']).mean().sort_values(['nota_site2'])\n",
    "site1_vs_site2 = df_3.groupby(['ideologia']).mean()\n",
    "site1_vs_site2.drop(['n_prod_leg', 'n_fisc', 'n_mobi', 'n_alin_partd'], axis=1, inplace=True)\n",
    "site1_vs_site2"
   ]
  },
  {
   "cell_type": "code",
   "execution_count": null,
   "id": "c6b13600",
   "metadata": {},
   "outputs": [],
   "source": []
  },
  {
   "cell_type": "code",
   "execution_count": null,
   "id": "657b4505",
   "metadata": {},
   "outputs": [],
   "source": []
  },
  {
   "cell_type": "code",
   "execution_count": null,
   "id": "c77248dd",
   "metadata": {},
   "outputs": [],
   "source": []
  }
 ],
 "metadata": {
  "kernelspec": {
   "display_name": "Python 3 (ipykernel)",
   "language": "python",
   "name": "python3"
  },
  "language_info": {
   "codemirror_mode": {
    "name": "ipython",
    "version": 3
   },
   "file_extension": ".py",
   "mimetype": "text/x-python",
   "name": "python",
   "nbconvert_exporter": "python",
   "pygments_lexer": "ipython3",
   "version": "3.9.7"
  }
 },
 "nbformat": 4,
 "nbformat_minor": 5
}
