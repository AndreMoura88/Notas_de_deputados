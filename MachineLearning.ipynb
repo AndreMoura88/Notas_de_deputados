{
 "cells": [
  {
   "cell_type": "markdown",
   "id": "1c5b673f",
   "metadata": {},
   "source": [
    "# Modelos de Machine Learning\n",
    "## Introdução"
   ]
  },
  {
   "cell_type": "markdown",
   "id": "a01217ba",
   "metadata": {},
   "source": [
    "A análise de ML abaixo foi realizada utilizando a base de dados que foi obtida via WebScraping atraveś dos sites: https://www.legislabrasil.org/ e no https://www.politicos.org.br/, utilizando os notebooks Rank_pol_V3.ipynb e Ranking_pol_site2.ipynb. Com aplicação das bibliotecas Selenium e BeautifulSoup.\n",
    "\n",
    "Esses dois sites classificam dando notas aos deputados federais em atividade no Brasil, a análise foi feita para o ano de 2022. Cada site tem suas metricas para a nota. \n",
    "<br>\n",
    "<br>\n",
    "A nota final do primeiro site (**Legisla Brasil**) é uma média de 17 notas que são divididas em 4 grupos:\n",
    "   1. PRODUÇÃO LEGISLATIVA: Mede o trabalho efetuado pelo parlamentar na elaboração, análise e votação de instrumentos legislativos.\n",
    "   2. FISCALIZAÇÃO: Mede a fiscalização que o deputado concretiza em relação ao Executivo Federal\n",
    "   3. MOBILIZAÇÃO: Mede a capacidade do parlamentar de articulação e cooperação com outros agentes políticos\n",
    "   4. ALINHAMENTO PARTIDÁRIO: Alinhamento partidário do parlamentar em relação à votação da maioria do seu partido. <br>\n",
    "\n",
    "Cada grupo é uma média de alguns indicadores: <br> \n",
    "**Produção Legislativa** <br>\n",
    "1. Apresentação de projetos: Categoria básica para a análise da atividade legislativa. Se contabiliza o número de projetos - independente se autoria própria ou co-autoria - apresentados pelo parlamentar.\n",
    "2. Protagonismo de autoria: Diferentemente da primeira, esse indicador isola os projetos encabeçados pelos parlamentares, avaliando o protagonismo do autor frente às matérias apresentadas por este.\n",
    "3. Relevância das autorias: A partir da criação de categorias, alta e média relevância, os projetos são divididos a partir do impacto social que apresentam. Os projetos de alto impacto afetam diretamente políticas materiais, como a Reforma da Previdência; enquanto os de médio impacto estão mais relacionados às questões subjetivas como nomeação de estradas e condecorações, por exemplo.\n",
    "4. Nº de votos em separado apresentados: O regimento parlamentar apresenta diversas ferramentas para a apresentação de discordâncias e mudanças no resultado. A apresentação de votação em separado permite ao parlamentar apresentar um ponto de vista diferente ao consenso gerado pelo Colegiado.\n",
    "5. Nº de substitutivos apresentados: Outra ferramenta disponível é a apresentação de substitutivos. Esse mecanismo permite ao apresentar e disputar uma solução diferente da proposta pelo autor do projeto\n",
    "6. Nº de relatorias apresentadas: Parte da atividade legislativa, o parlamentar responsável pela relatoria determina sobre a aprovação ou prejuízo de matérias.\n",
    "7. Nº presença em Plenário: Frequência com a qual o parlamentar tem participado dos deputados deliberativos do Plenário.\n",
    "8. Emendas de Plenário: Proposições feitas pelos parlamentares durante as sessões plenárias, com o objetivo de alterar um projeto de lei em tramitação.<br>\n",
    "\n",
    "**Fiscalização**<br>\n",
    "\n",
    "9. Nº de solicitações de informações protocoladas: Dimensão de fiscalização reativa. Os parlamentares podem usar dessa ferramenta para fiscalizar o poder público. Referência ao número total de requerimentos de informação protocolados.\n",
    "10. Proposta de fiscalização e controle protocoladas: Dimensão da fiscalização preventiva, propositiva. Relaciona-se ao número de propostas de fiscalização protocoladas.\n",
    "11. Recebimento de emendas parlamentares (emendas empenhadas): Recurso disponibilizado por todos os parlamentares. Calcula-se o montante de orçamento empenhado pelo Executivo.\n",
    "12. Emendas de Medidas Provisórias: Medidas provisórias são um instrumento utilizado pelo presidente com força de lei. O Executivo envia para o Legislativo, e os parlamentares possuem um tempo limitado para propor emendas à proposição do Executivo.\n",
    "13. Emendas de orçamento: Proposições feitas pelos parlamentares em projetos de lei orçamentária, que são enviados do Executivo para o Legislativo (Lei de Diretrizes Orçamentárias e Lei Orçamentária Anual).\n",
    "\n",
    "**Mobilização**<br>\n",
    "\n",
    "14. Projetos de autoria com status especial: O regime de tramitação pode atrasar ou acelerar a aprovação de um projeto legislativo. Ter um status especial ao projeto garante que sua tramitação seja mais rápida. Além disso, demonstra uma capacidade de articulação, pois, quando não é atribuída pelo próprio Presidente, requer que a maioria do Plenário se manifeste favoravelmente.\n",
    "15. Cargos ocupados na legislatura: Referência ao número total de cargos institucionais ocupados pelos parlamentares. Indica capacidade de articulação e influência com seu partido e com seus pares.\n",
    "16. Nº de requerimentos de Audiência Pública: As audiências públicas são o espaço para que a sociedade civil se manifeste sobre determinado projeto parlamentar. Um número de requerimentos de Audiência Pública protocolados demonstra uma vontade parlamentar de aproximação com agentes externos ao Parlamento, atividade importante para um parlamentar.\n",
    "\n",
    "**Alinhamento partidário**<br>\n",
    "\n",
    "17. Desvios da posição majoritária do partido em votações: Cálculo de desvio do parlamentar em relação à maioria do partido nas votações de projetos de lei tramitados na Câmara.<br>\n"
   ]
  },
  {
   "cell_type": "markdown",
   "id": "4898098c",
   "metadata": {},
   "source": [
    "A nota final do segundo site (**Ranking dos Políticos**) é uma média de 4 notas de acordo com a metodologia fornecida  pelo próprio site: <br>\n",
    "Fórmula:<br>\n",
    "\n",
    "[((APx3)+(AD/3))/4] + AC + OT = Nota Final<br>\n",
    "\n",
    "AP = Antiprivilégio<br>\n",
    "AD = Antidesperdício<br>\n",
    "AC = Anticorrupção<br>\n",
    "OT = Outros<br>\n",
    "Aplicando a seguinte metodologia pelo site:<br>\n",
    "**Pesos** <br>\n",
    "- Para calcular a pontuação final dos políticos, aplicar os seguintes pesos\n",
    "\n",
    "   - Antiprivilégios (Votações): 3x <br>\n",
    "   - Antidesperdício (Presenças e Economia de Verbas): 3÷ <br>\n",
    "   - Anticorrupção (Ficha Limpa): quando há processos, subtrai pontos da nota final <br>\n",
    "   - Outros: soma ou subtrai pontos da nota final. <br>\n",
    "<br>\n",
    "\n",
    "**Obs:** A montagem da fórmula exibida no site ficou confusa, após verificação foi constatado que faltava um ( ) e foi corrigida aqui na apresentação. <br>\n",
    "\n",
    "Cada nota é descrita no site e explicada da seguinte forma:\n",
    "\n",
    "**Antiprivilégios** - O posicionamento dos parlamentares nas principais votações do Congresso é avaliado de acordo com a orientação do nosso Conselho. O aproveitamento de acerto nos votos reflete a nota do político neste critério. O Ranking avalia apenas parlamentares que ficam no mínimo 06 meses em seus respectivos mandatos. \n",
    "\n",
    "**Antidesperdício** - Políticos que não faltam ao trabalho e que economizam na Cota Parlamentar e Verba de Gabinete ganham pontos no ranking.\n",
    "   - Presenças nas sessões deliberativas: A nota varia de acordo com taxa de comparecimento do político durante o período em que ele esteve em exercício. Faltas justificadas contam como presença.\n",
    "\n",
    "   - Economia de Verbas: O desempenho neste quesito é definido pelo percentual economizado pelo político em relação à sua cota parlamentar e verba de gabinete disponíveis enquanto esteve em exercício.\n",
    "\n",
    "   - Cota Parlamentar: Valor mensal para custear as despesas do mandato. Seu valor varia de acordo com o estado de origem do parlamentar, por conta dos diferentes custos de passagens aéreas para Brasília.\n",
    "\n",
    "   - Verba de Gabinete: É o valor mensal destinado para pagar o salário dos assessores dos parlamentares.\n",
    "<br>\n",
    "\n",
    "**Anticorrupção** - Os parlamentares condenados em crimes, principalmente contra a administração pública, ou que respondem a inquéritos do STF, perdem pontos no Ranking dos Políticos.\n",
    "<br>\n",
    "\n",
    "**Outros** - Iniciativas relevantes não previstas nos demais critérios podem gerar o acúmulo ou a perda de pontuações extras para os parlamentares. Os pontos são subtraídos da nota final apurada nos demais critérios.\n",
    "<br>\n",
    "<br>\n",
    "\n",
    "Após a análise da composição das notas foi observado que o quesito **Antiprivilégio** abre espaço para se tornar uma variável subjetiva, já que depende de um conselho para julgar o posicionamento do deputado. E apesar da composição do conselho ser pública não fica claro como ela é feita o que abre espaço para que seu posicionamento seja enviesado. E com o agravante dessa nota ser a que tem peso maior na composição final. "
   ]
  },
  {
   "cell_type": "markdown",
   "id": "3329b222",
   "metadata": {},
   "source": [
    "O **objetivo** principal dessa análise é verificar se as 4 notas do Legisla Brasil (site 1) explicam a variabilidade da nota do Ranking dos políticos (site 2) usando um modelo de regressão linear."
   ]
  },
  {
   "cell_type": "markdown",
   "id": "819efb30",
   "metadata": {},
   "source": [
    "## Machine Learning"
   ]
  },
  {
   "cell_type": "code",
   "execution_count": 114,
   "id": "498e53e0",
   "metadata": {
    "scrolled": true
   },
   "outputs": [],
   "source": [
    "# bibliotecas\n",
    "import pandas as pd #processamento de dados\n",
    "import numpy as np #algebra linear\n",
    "import matplotlib.pyplot as plt # Matlab-Style\n",
    "from pandas.plotting import scatter_matrix \n",
    "%matplotlib inline\n",
    "import seaborn as sns\n",
    "color = sns.color_palette()\n",
    "sns.set_style('darkgrid')\n",
    "import warnings\n",
    "def ignore_warn(*arg, **kwargs):\n",
    "    pass\n",
    "warnings.warm = ignore_warn #ignorar avisos chatos (do sklearn e seaborn)\n",
    "\n",
    "from scipy import stats\n",
    "from scipy.stats import norm, skew #para analises estatítiscas\n",
    "\n",
    "pd.set_option('display.float_format', lambda x: '{:.3f}'.format(x)) # limita saídas de tipos floats \n",
    "                                                                    # a 3 casas decimais\n",
    "from subprocess import check_output\n",
    "# print(check_output([\"ls\"]).decode(\"utf8\")) #checar os arquivos disponiveis no diretório\n",
    "\n",
    "\n",
    "# from sklearn import model_selection\n",
    "# from sklearn import linear_model\n",
    "from sklearn.linear_model import LinearRegression\n",
    "from sklearn.metrics import mean_squared_error, r2_score, mean_absolute_error\n",
    "from sklearn.pipeline import Pipeline, make_pipeline\n",
    "from sklearn.preprocessing import OneHotEncoder\n",
    "from sklearn.compose import ColumnTransformer\n",
    "from sklearn.model_selection import train_test_split, KFold, cross_val_score, GridSearchCV"
   ]
  },
  {
   "cell_type": "code",
   "execution_count": 78,
   "id": "5626323b",
   "metadata": {},
   "outputs": [],
   "source": [
    "# Carregando os dados\n",
    "dados = pd.read_csv('df_after_AD.csv', dtype={'ideologia':'category'})"
   ]
  },
  {
   "cell_type": "code",
   "execution_count": 79,
   "id": "2cd42a14",
   "metadata": {},
   "outputs": [
    {
     "data": {
      "text/html": [
       "<div>\n",
       "<style scoped>\n",
       "    .dataframe tbody tr th:only-of-type {\n",
       "        vertical-align: middle;\n",
       "    }\n",
       "\n",
       "    .dataframe tbody tr th {\n",
       "        vertical-align: top;\n",
       "    }\n",
       "\n",
       "    .dataframe thead th {\n",
       "        text-align: right;\n",
       "    }\n",
       "</style>\n",
       "<table border=\"1\" class=\"dataframe\">\n",
       "  <thead>\n",
       "    <tr style=\"text-align: right;\">\n",
       "      <th></th>\n",
       "      <th>Unnamed: 0</th>\n",
       "      <th>nome</th>\n",
       "      <th>estado</th>\n",
       "      <th>partido</th>\n",
       "      <th>ideologia</th>\n",
       "      <th>n_prod_leg</th>\n",
       "      <th>n_fisc</th>\n",
       "      <th>n_mobi</th>\n",
       "      <th>n_alin_partd</th>\n",
       "      <th>avg_site1</th>\n",
       "      <th>nota_site2</th>\n",
       "    </tr>\n",
       "  </thead>\n",
       "  <tbody>\n",
       "    <tr>\n",
       "      <th>0</th>\n",
       "      <td>0</td>\n",
       "      <td>abou anni</td>\n",
       "      <td>São Paulo</td>\n",
       "      <td>UNIÃO</td>\n",
       "      <td>direita</td>\n",
       "      <td>3.800</td>\n",
       "      <td>0.900</td>\n",
       "      <td>2.400</td>\n",
       "      <td>6.400</td>\n",
       "      <td>2.853</td>\n",
       "      <td>6.550</td>\n",
       "    </tr>\n",
       "  </tbody>\n",
       "</table>\n",
       "</div>"
      ],
      "text/plain": [
       "   Unnamed: 0       nome     estado partido ideologia  n_prod_leg  n_fisc  \\\n",
       "0           0  abou anni  São Paulo   UNIÃO   direita       3.800   0.900   \n",
       "\n",
       "   n_mobi  n_alin_partd  avg_site1  nota_site2  \n",
       "0   2.400         6.400      2.853       6.550  "
      ]
     },
     "execution_count": 79,
     "metadata": {},
     "output_type": "execute_result"
    }
   ],
   "source": [
    "dados.head(1)"
   ]
  },
  {
   "cell_type": "code",
   "execution_count": 80,
   "id": "a3e1af04",
   "metadata": {
    "scrolled": true
   },
   "outputs": [
    {
     "data": {
      "text/plain": [
       "(488, 10)"
      ]
     },
     "execution_count": 80,
     "metadata": {},
     "output_type": "execute_result"
    }
   ],
   "source": [
    "# Visualizando as dimensões\n",
    "dados = dados.drop('Unnamed: 0', axis=1)\n",
    "dados.shape"
   ]
  },
  {
   "cell_type": "code",
   "execution_count": 81,
   "id": "4c720e42",
   "metadata": {
    "scrolled": false
   },
   "outputs": [
    {
     "data": {
      "text/html": [
       "<div>\n",
       "<style scoped>\n",
       "    .dataframe tbody tr th:only-of-type {\n",
       "        vertical-align: middle;\n",
       "    }\n",
       "\n",
       "    .dataframe tbody tr th {\n",
       "        vertical-align: top;\n",
       "    }\n",
       "\n",
       "    .dataframe thead th {\n",
       "        text-align: right;\n",
       "    }\n",
       "</style>\n",
       "<table border=\"1\" class=\"dataframe\">\n",
       "  <thead>\n",
       "    <tr style=\"text-align: right;\">\n",
       "      <th></th>\n",
       "      <th>nome</th>\n",
       "      <th>estado</th>\n",
       "      <th>partido</th>\n",
       "      <th>ideologia</th>\n",
       "      <th>n_prod_leg</th>\n",
       "      <th>n_fisc</th>\n",
       "      <th>n_mobi</th>\n",
       "      <th>n_alin_partd</th>\n",
       "      <th>avg_site1</th>\n",
       "      <th>nota_site2</th>\n",
       "    </tr>\n",
       "  </thead>\n",
       "  <tbody>\n",
       "    <tr>\n",
       "      <th>0</th>\n",
       "      <td>abou anni</td>\n",
       "      <td>São Paulo</td>\n",
       "      <td>UNIÃO</td>\n",
       "      <td>direita</td>\n",
       "      <td>3.800</td>\n",
       "      <td>0.900</td>\n",
       "      <td>2.400</td>\n",
       "      <td>6.400</td>\n",
       "      <td>2.853</td>\n",
       "      <td>6.550</td>\n",
       "    </tr>\n",
       "    <tr>\n",
       "      <th>1</th>\n",
       "      <td>acacio favacho</td>\n",
       "      <td>Amapá</td>\n",
       "      <td>MDB</td>\n",
       "      <td>centro</td>\n",
       "      <td>2.600</td>\n",
       "      <td>0.200</td>\n",
       "      <td>2.100</td>\n",
       "      <td>6.400</td>\n",
       "      <td>2.029</td>\n",
       "      <td>6.120</td>\n",
       "    </tr>\n",
       "  </tbody>\n",
       "</table>\n",
       "</div>"
      ],
      "text/plain": [
       "             nome     estado partido ideologia  n_prod_leg  n_fisc  n_mobi  \\\n",
       "0       abou anni  São Paulo   UNIÃO   direita       3.800   0.900   2.400   \n",
       "1  acacio favacho      Amapá     MDB    centro       2.600   0.200   2.100   \n",
       "\n",
       "   n_alin_partd  avg_site1  nota_site2  \n",
       "0         6.400      2.853       6.550  \n",
       "1         6.400      2.029       6.120  "
      ]
     },
     "execution_count": 81,
     "metadata": {},
     "output_type": "execute_result"
    }
   ],
   "source": [
    "dados.head(2)"
   ]
  },
  {
   "cell_type": "markdown",
   "id": "7dd115fb",
   "metadata": {},
   "source": [
    "#### Adicionando a feature região, que específica de qual regiao do Brasil é o deputado"
   ]
  },
  {
   "cell_type": "code",
   "execution_count": 82,
   "id": "94931079",
   "metadata": {},
   "outputs": [],
   "source": [
    "#regiões do Brasil e seus estados\n",
    "norte = ['Amazonas', 'Roraima', 'Amapá', 'Pará', 'Tocantins', 'Rondônia', 'Acre']\n",
    "nordeste = ['Maranhão', 'Piauí', 'Ceará', 'Rio Grande do Norte', 'Pernambuco', 'Paraíba',\\\n",
    "            'Sergipe', 'Alagoas', 'Bahia']\n",
    "centro_oeste = ['Mato Grosso', 'Mato Grosso do Sul', 'Goiás', 'Distrito Federal']\n",
    "sudeste = ['São Paulo', 'Rio de Janeiro', 'Espírito Santo', 'Minas Gerais']\n",
    "sul = ['Paraná', 'Rio Grande do Sul', 'Santa Catarina']\n",
    "regiao = []"
   ]
  },
  {
   "cell_type": "code",
   "execution_count": 83,
   "id": "86a02392",
   "metadata": {},
   "outputs": [],
   "source": [
    "regiao = ['norte' if x in norte else 'nordeste' if x in nordeste else 'centro oeste' if x in centro_oeste\\\n",
    "          else 'sudeste' if x in sudeste else 'sul' for x in dados.estado]"
   ]
  },
  {
   "cell_type": "code",
   "execution_count": 84,
   "id": "9a0b549c",
   "metadata": {},
   "outputs": [],
   "source": [
    "dados.insert(2, 'regiao', regiao)"
   ]
  },
  {
   "cell_type": "code",
   "execution_count": 85,
   "id": "7523fcf2",
   "metadata": {
    "scrolled": true
   },
   "outputs": [
    {
     "data": {
      "text/html": [
       "<div>\n",
       "<style scoped>\n",
       "    .dataframe tbody tr th:only-of-type {\n",
       "        vertical-align: middle;\n",
       "    }\n",
       "\n",
       "    .dataframe tbody tr th {\n",
       "        vertical-align: top;\n",
       "    }\n",
       "\n",
       "    .dataframe thead th {\n",
       "        text-align: right;\n",
       "    }\n",
       "</style>\n",
       "<table border=\"1\" class=\"dataframe\">\n",
       "  <thead>\n",
       "    <tr style=\"text-align: right;\">\n",
       "      <th></th>\n",
       "      <th>nome</th>\n",
       "      <th>estado</th>\n",
       "      <th>regiao</th>\n",
       "      <th>partido</th>\n",
       "      <th>ideologia</th>\n",
       "      <th>n_prod_leg</th>\n",
       "      <th>n_fisc</th>\n",
       "      <th>n_mobi</th>\n",
       "      <th>n_alin_partd</th>\n",
       "      <th>avg_site1</th>\n",
       "      <th>nota_site2</th>\n",
       "    </tr>\n",
       "  </thead>\n",
       "  <tbody>\n",
       "    <tr>\n",
       "      <th>0</th>\n",
       "      <td>abou anni</td>\n",
       "      <td>São Paulo</td>\n",
       "      <td>sudeste</td>\n",
       "      <td>UNIÃO</td>\n",
       "      <td>direita</td>\n",
       "      <td>3.800</td>\n",
       "      <td>0.900</td>\n",
       "      <td>2.400</td>\n",
       "      <td>6.400</td>\n",
       "      <td>2.853</td>\n",
       "      <td>6.550</td>\n",
       "    </tr>\n",
       "    <tr>\n",
       "      <th>1</th>\n",
       "      <td>acacio favacho</td>\n",
       "      <td>Amapá</td>\n",
       "      <td>norte</td>\n",
       "      <td>MDB</td>\n",
       "      <td>centro</td>\n",
       "      <td>2.600</td>\n",
       "      <td>0.200</td>\n",
       "      <td>2.100</td>\n",
       "      <td>6.400</td>\n",
       "      <td>2.029</td>\n",
       "      <td>6.120</td>\n",
       "    </tr>\n",
       "  </tbody>\n",
       "</table>\n",
       "</div>"
      ],
      "text/plain": [
       "             nome     estado   regiao partido ideologia  n_prod_leg  n_fisc  \\\n",
       "0       abou anni  São Paulo  sudeste   UNIÃO   direita       3.800   0.900   \n",
       "1  acacio favacho      Amapá    norte     MDB    centro       2.600   0.200   \n",
       "\n",
       "   n_mobi  n_alin_partd  avg_site1  nota_site2  \n",
       "0   2.400         6.400      2.853       6.550  \n",
       "1   2.100         6.400      2.029       6.120  "
      ]
     },
     "execution_count": 85,
     "metadata": {},
     "output_type": "execute_result"
    }
   ],
   "source": [
    "dados.head(2)"
   ]
  },
  {
   "cell_type": "code",
   "execution_count": 10,
   "id": "6903b765",
   "metadata": {},
   "outputs": [
    {
     "data": {
      "image/png": "[encoded data removed]",
      "text/plain": [
       "<Figure size 432x288 with 1 Axes>"
      ]
     },
     "metadata": {},
     "output_type": "display_data"
    }
   ],
   "source": [
    "dados.regiao.value_counts(1).plot.bar()\n",
    "plt.title('Distribuição dos deputados por região no Brasil')\n",
    "plt.show()\n"
   ]
  },
  {
   "cell_type": "markdown",
   "id": "b2790f66",
   "metadata": {},
   "source": [
    "A maior parte da representação na câmara são de deputados da região Sudeste e Nordeste abraçando juntas quase que 65% do total."
   ]
  },
  {
   "cell_type": "code",
   "execution_count": 11,
   "id": "bb5a7c5e",
   "metadata": {
    "scrolled": true
   },
   "outputs": [
    {
     "data": {
      "text/html": [
       "<div>\n",
       "<style scoped>\n",
       "    .dataframe tbody tr th:only-of-type {\n",
       "        vertical-align: middle;\n",
       "    }\n",
       "\n",
       "    .dataframe tbody tr th {\n",
       "        vertical-align: top;\n",
       "    }\n",
       "\n",
       "    .dataframe thead th {\n",
       "        text-align: right;\n",
       "    }\n",
       "</style>\n",
       "<table border=\"1\" class=\"dataframe\">\n",
       "  <thead>\n",
       "    <tr style=\"text-align: right;\">\n",
       "      <th></th>\n",
       "      <th></th>\n",
       "      <th>avg_site1</th>\n",
       "      <th>nota_site2</th>\n",
       "    </tr>\n",
       "    <tr>\n",
       "      <th>regiao</th>\n",
       "      <th>ideologia</th>\n",
       "      <th></th>\n",
       "      <th></th>\n",
       "    </tr>\n",
       "  </thead>\n",
       "  <tbody>\n",
       "    <tr>\n",
       "      <th rowspan=\"3\" valign=\"top\">centro oeste</th>\n",
       "      <th>centro</th>\n",
       "      <td>3.619</td>\n",
       "      <td>6.074</td>\n",
       "    </tr>\n",
       "    <tr>\n",
       "      <th>direita</th>\n",
       "      <td>3.279</td>\n",
       "      <td>6.550</td>\n",
       "    </tr>\n",
       "    <tr>\n",
       "      <th>esquerda</th>\n",
       "      <td>5.186</td>\n",
       "      <td>3.243</td>\n",
       "    </tr>\n",
       "    <tr>\n",
       "      <th rowspan=\"3\" valign=\"top\">nordeste</th>\n",
       "      <th>centro</th>\n",
       "      <td>2.512</td>\n",
       "      <td>6.127</td>\n",
       "    </tr>\n",
       "    <tr>\n",
       "      <th>direita</th>\n",
       "      <td>2.557</td>\n",
       "      <td>6.211</td>\n",
       "    </tr>\n",
       "    <tr>\n",
       "      <th>esquerda</th>\n",
       "      <td>3.991</td>\n",
       "      <td>3.500</td>\n",
       "    </tr>\n",
       "    <tr>\n",
       "      <th rowspan=\"3\" valign=\"top\">norte</th>\n",
       "      <th>centro</th>\n",
       "      <td>2.485</td>\n",
       "      <td>6.247</td>\n",
       "    </tr>\n",
       "    <tr>\n",
       "      <th>direita</th>\n",
       "      <td>2.970</td>\n",
       "      <td>6.318</td>\n",
       "    </tr>\n",
       "    <tr>\n",
       "      <th>esquerda</th>\n",
       "      <td>4.189</td>\n",
       "      <td>3.314</td>\n",
       "    </tr>\n",
       "    <tr>\n",
       "      <th rowspan=\"3\" valign=\"top\">sudeste</th>\n",
       "      <th>centro</th>\n",
       "      <td>2.871</td>\n",
       "      <td>6.479</td>\n",
       "    </tr>\n",
       "    <tr>\n",
       "      <th>direita</th>\n",
       "      <td>3.140</td>\n",
       "      <td>6.679</td>\n",
       "    </tr>\n",
       "    <tr>\n",
       "      <th>esquerda</th>\n",
       "      <td>4.705</td>\n",
       "      <td>3.266</td>\n",
       "    </tr>\n",
       "    <tr>\n",
       "      <th rowspan=\"3\" valign=\"top\">sul</th>\n",
       "      <th>centro</th>\n",
       "      <td>2.756</td>\n",
       "      <td>6.900</td>\n",
       "    </tr>\n",
       "    <tr>\n",
       "      <th>direita</th>\n",
       "      <td>3.180</td>\n",
       "      <td>7.052</td>\n",
       "    </tr>\n",
       "    <tr>\n",
       "      <th>esquerda</th>\n",
       "      <td>4.478</td>\n",
       "      <td>3.001</td>\n",
       "    </tr>\n",
       "  </tbody>\n",
       "</table>\n",
       "</div>"
      ],
      "text/plain": [
       "                        avg_site1  nota_site2\n",
       "regiao       ideologia                       \n",
       "centro oeste centro         3.619       6.074\n",
       "             direita        3.279       6.550\n",
       "             esquerda       5.186       3.243\n",
       "nordeste     centro         2.512       6.127\n",
       "             direita        2.557       6.211\n",
       "             esquerda       3.991       3.500\n",
       "norte        centro         2.485       6.247\n",
       "             direita        2.970       6.318\n",
       "             esquerda       4.189       3.314\n",
       "sudeste      centro         2.871       6.479\n",
       "             direita        3.140       6.679\n",
       "             esquerda       4.705       3.266\n",
       "sul          centro         2.756       6.900\n",
       "             direita        3.180       7.052\n",
       "             esquerda       4.478       3.001"
      ]
     },
     "execution_count": 11,
     "metadata": {},
     "output_type": "execute_result"
    }
   ],
   "source": [
    "dados.groupby(['regiao', 'ideologia'])[['avg_site1', 'nota_site2']].mean()"
   ]
  },
  {
   "cell_type": "markdown",
   "id": "55dde2b4",
   "metadata": {},
   "source": [
    "Pelo agrupamento dos dados por região o comportamento ainda segue o mesmo padrão. Em todas as regiões os partidos com ideologias classificadas em Centro e Direita tem nota mais baixa no site 1 e as mais altas no site 2. E para ideologias de esquerda a nota é mais alta no site 1 e a mais baixa do site 2."
   ]
  },
  {
   "cell_type": "code",
   "execution_count": 12,
   "id": "60390ec9",
   "metadata": {
    "scrolled": true
   },
   "outputs": [
    {
     "data": {
      "text/html": [
       "<div>\n",
       "<style scoped>\n",
       "    .dataframe tbody tr th:only-of-type {\n",
       "        vertical-align: middle;\n",
       "    }\n",
       "\n",
       "    .dataframe tbody tr th {\n",
       "        vertical-align: top;\n",
       "    }\n",
       "\n",
       "    .dataframe thead tr th {\n",
       "        text-align: left;\n",
       "    }\n",
       "\n",
       "    .dataframe thead tr:last-of-type th {\n",
       "        text-align: right;\n",
       "    }\n",
       "</style>\n",
       "<table border=\"1\" class=\"dataframe\">\n",
       "  <thead>\n",
       "    <tr>\n",
       "      <th></th>\n",
       "      <th colspan=\"3\" halign=\"left\">ideologia</th>\n",
       "    </tr>\n",
       "    <tr>\n",
       "      <th>ideologia</th>\n",
       "      <th>centro</th>\n",
       "      <th>direita</th>\n",
       "      <th>esquerda</th>\n",
       "    </tr>\n",
       "    <tr>\n",
       "      <th>regiao</th>\n",
       "      <th></th>\n",
       "      <th></th>\n",
       "      <th></th>\n",
       "    </tr>\n",
       "  </thead>\n",
       "  <tbody>\n",
       "    <tr>\n",
       "      <th>centro oeste</th>\n",
       "      <td>11</td>\n",
       "      <td>20</td>\n",
       "      <td>7</td>\n",
       "    </tr>\n",
       "    <tr>\n",
       "      <th>nordeste</th>\n",
       "      <td>32</td>\n",
       "      <td>69</td>\n",
       "      <td>44</td>\n",
       "    </tr>\n",
       "    <tr>\n",
       "      <th>norte</th>\n",
       "      <td>25</td>\n",
       "      <td>23</td>\n",
       "      <td>13</td>\n",
       "    </tr>\n",
       "    <tr>\n",
       "      <th>sudeste</th>\n",
       "      <td>38</td>\n",
       "      <td>100</td>\n",
       "      <td>35</td>\n",
       "    </tr>\n",
       "    <tr>\n",
       "      <th>sul</th>\n",
       "      <td>28</td>\n",
       "      <td>27</td>\n",
       "      <td>16</td>\n",
       "    </tr>\n",
       "  </tbody>\n",
       "</table>\n",
       "</div>"
      ],
      "text/plain": [
       "             ideologia                 \n",
       "ideologia       centro direita esquerda\n",
       "regiao                                 \n",
       "centro oeste        11      20        7\n",
       "nordeste            32      69       44\n",
       "norte               25      23       13\n",
       "sudeste             38     100       35\n",
       "sul                 28      27       16"
      ]
     },
     "execution_count": 12,
     "metadata": {},
     "output_type": "execute_result"
    }
   ],
   "source": [
    "dados.groupby(['regiao', 'ideologia'])[['ideologia']].count().unstack()"
   ]
  },
  {
   "cell_type": "markdown",
   "id": "3186e34a",
   "metadata": {},
   "source": [
    "A tabela acima mostra a distribuição de deputados por região para cada classificação de Ideologia do seu partido. E mostra que há maioria de partidos de Direita em 3 das 5 regiões, ficando atrás dos partidos de Centro apenas nas regiões Norte e Sul. Já a esquerda não é maioria em nenhuma região, e sendo minoria em 4 das 5 regiões, com excessão do Nordeste.\n",
    "Isso mostra que a representatividade dos deputados do Brasil no ano de 2022 tem a Direita como sua representante majoritaria."
   ]
  },
  {
   "cell_type": "code",
   "execution_count": 18,
   "id": "2be5891b",
   "metadata": {
    "scrolled": false
   },
   "outputs": [
    {
     "data": {
      "image/png": "[encoded data removed]",
      "text/plain": [
       "<Figure size 2238x432 with 5 Axes>"
      ]
     },
     "metadata": {},
     "output_type": "display_data"
    },
    {
     "data": {
      "image/png": "[encoded data removed]",
      "text/plain": [
       "<Figure size 2238x432 with 5 Axes>"
      ]
     },
     "metadata": {},
     "output_type": "display_data"
    }
   ],
   "source": [
    "g = sns.FacetGrid(dados, col=\"regiao\", hue=\"ideologia\", palette = [\"green\", \"blue\", \"red\"], height=6)\n",
    "g.map(sns.histplot, \"avg_site1\", alpha=.6)\n",
    "g.add_legend()\n",
    "g.fig.suptitle('Site 1', y=1.01)\n",
    "\n",
    "g2 = sns.FacetGrid(dados, col=\"regiao\", hue=\"ideologia\", palette = [\"green\", \"blue\", \"red\"], height=6)\n",
    "g2.map(sns.histplot, \"nota_site2\", alpha=.6)\n",
    "g2.add_legend()\n",
    "g2.fig.suptitle('Site 2', y=1.01)\n",
    "plt.show()"
   ]
  },
  {
   "cell_type": "markdown",
   "id": "8c24e20a",
   "metadata": {},
   "source": [
    "Pode-se perceber a semelhança do comportamento das notas do Site 1 e do Site 2 quando olhamos para as notas divididas por região e quando olhamos para o comportamento da população dos dados. O site 1 tem notas maiores para partidos de Esquerda e o site 2 para partidos de Centro e Direita."
   ]
  },
  {
   "cell_type": "markdown",
   "id": "9e93fe81",
   "metadata": {},
   "source": [
    "### Comçando os ajustes para inicio do treinamento dos modelos de ML"
   ]
  },
  {
   "cell_type": "markdown",
   "id": "45765d8b",
   "metadata": {},
   "source": [
    "**nota_site2** é a variável que desejamos predizer, no caso desse problema é a variável que queremos comparar com as variáveis independentes para saber se elas explicam a sua variabilidade."
   ]
  },
  {
   "cell_type": "code",
   "execution_count": 133,
   "id": "f26d5ed2",
   "metadata": {},
   "outputs": [
    {
     "data": {
      "text/plain": [
       "((341, 11), (147, 11))"
      ]
     },
     "execution_count": 133,
     "metadata": {},
     "output_type": "execute_result"
    }
   ],
   "source": [
    "# dividindo o dataset\n",
    "treino_M, teste_M = train_test_split(dados, \n",
    "                                test_size=0.3,\n",
    "                                random_state=42\n",
    "                               )\n",
    "treino_M.shape, teste_M.shape"
   ]
  },
  {
   "cell_type": "markdown",
   "id": "98b8f40e",
   "metadata": {},
   "source": [
    " O subset de testes será usado somente no final da análise para evitar o data leakage."
   ]
  },
  {
   "cell_type": "code",
   "execution_count": 134,
   "id": "2575eed0",
   "metadata": {},
   "outputs": [],
   "source": [
    "y_test = teste_M.nota_site2.copy()\n",
    "X_test = teste_M.drop(['nota_site2'], axis=1).copy()"
   ]
  },
  {
   "cell_type": "markdown",
   "id": "be9b7dd7",
   "metadata": {},
   "source": [
    "### Treinando o modelo somente com as notas do site 1 (Modelo M1)"
   ]
  },
  {
   "cell_type": "markdown",
   "id": "e5df756d",
   "metadata": {},
   "source": [
    "O primeiro modelo foi realizado considerando somente as notas (PRODUÇÃO LEGISLATIVA, FISCALIZAÇÃO, MOBILIZAÇÃO e ALINHAMENTO PARTIDÁRIO) oferecidas pelo Site 1 que foram usadas como variáveis preditoras para tentar explicar a nota do site 2 (politicos.org.br), utilizada como variável alvo."
   ]
  },
  {
   "cell_type": "code",
   "execution_count": 135,
   "id": "cc96e21d",
   "metadata": {},
   "outputs": [
    {
     "name": "stdout",
     "output_type": "stream",
     "text": [
      "Número de linhas 341\n"
     ]
    },
    {
     "data": {
      "text/html": [
       "<div>\n",
       "<style scoped>\n",
       "    .dataframe tbody tr th:only-of-type {\n",
       "        vertical-align: middle;\n",
       "    }\n",
       "\n",
       "    .dataframe tbody tr th {\n",
       "        vertical-align: top;\n",
       "    }\n",
       "\n",
       "    .dataframe thead th {\n",
       "        text-align: right;\n",
       "    }\n",
       "</style>\n",
       "<table border=\"1\" class=\"dataframe\">\n",
       "  <thead>\n",
       "    <tr style=\"text-align: right;\">\n",
       "      <th></th>\n",
       "      <th>n_prod_leg</th>\n",
       "      <th>n_fisc</th>\n",
       "      <th>n_mobi</th>\n",
       "      <th>n_alin_partd</th>\n",
       "    </tr>\n",
       "  </thead>\n",
       "  <tbody>\n",
       "    <tr>\n",
       "      <th>3</th>\n",
       "      <td>6.400</td>\n",
       "      <td>2.900</td>\n",
       "      <td>7.300</td>\n",
       "      <td>10.000</td>\n",
       "    </tr>\n",
       "    <tr>\n",
       "      <th>417</th>\n",
       "      <td>1.900</td>\n",
       "      <td>0.000</td>\n",
       "      <td>1.500</td>\n",
       "      <td>6.400</td>\n",
       "    </tr>\n",
       "    <tr>\n",
       "      <th>173</th>\n",
       "      <td>6.700</td>\n",
       "      <td>3.100</td>\n",
       "      <td>6.100</td>\n",
       "      <td>0.900</td>\n",
       "    </tr>\n",
       "    <tr>\n",
       "      <th>60</th>\n",
       "      <td>2.000</td>\n",
       "      <td>0.700</td>\n",
       "      <td>1.800</td>\n",
       "      <td>6.400</td>\n",
       "    </tr>\n",
       "    <tr>\n",
       "      <th>110</th>\n",
       "      <td>3.600</td>\n",
       "      <td>0.900</td>\n",
       "      <td>4.800</td>\n",
       "      <td>8.200</td>\n",
       "    </tr>\n",
       "  </tbody>\n",
       "</table>\n",
       "</div>"
      ],
      "text/plain": [
       "     n_prod_leg  n_fisc  n_mobi  n_alin_partd\n",
       "3         6.400   2.900   7.300        10.000\n",
       "417       1.900   0.000   1.500         6.400\n",
       "173       6.700   3.100   6.100         0.900\n",
       "60        2.000   0.700   1.800         6.400\n",
       "110       3.600   0.900   4.800         8.200"
      ]
     },
     "execution_count": 135,
     "metadata": {},
     "output_type": "execute_result"
    }
   ],
   "source": [
    "# Variável target\n",
    "y_M1 = treino_M.nota_site2.copy()\n",
    "\n",
    "# Features preditoras\n",
    "X_M1 = treino_M.drop(['nota_site2', 'nome', 'ideologia', 'estado', 'partido', 'avg_site1', 'regiao'], axis=1).copy()\n",
    "\n",
    "print(f\"Número de linhas {X_M1.shape[0]}\")\n",
    "X_M1.head()"
   ]
  },
  {
   "cell_type": "code",
   "execution_count": 136,
   "id": "255c7061",
   "metadata": {},
   "outputs": [
    {
     "data": {
      "text/plain": [
       "((238, 4), (238,), (103, 4), (103,))"
      ]
     },
     "execution_count": 136,
     "metadata": {},
     "output_type": "execute_result"
    }
   ],
   "source": [
    "#dividindo os dados de treino em um subset de treino e validação com uma amostra estratificada\n",
    "X_train_M1, X_val_M1, y_train_M1, y_val_M1 = train_test_split(\n",
    "    X_M1, y_M1, \n",
    "    test_size=0.3,\n",
    "    random_state=42\n",
    ")\n",
    "\n",
    "X_train_M1.shape, y_train_M1.shape, X_val_M1.shape, y_val_M1.shape"
   ]
  },
  {
   "cell_type": "code",
   "execution_count": 137,
   "id": "218803a4",
   "metadata": {},
   "outputs": [
    {
     "data": {
      "text/html": [
       "<style>#sk-container-id-9 {color: black;background-color: white;}#sk-container-id-9 pre{padding: 0;}#sk-container-id-9 div.sk-toggleable {background-color: white;}#sk-container-id-9 label.sk-toggleable__label {cursor: pointer;display: block;width: 100%;margin-bottom: 0;padding: 0.3em;box-sizing: border-box;text-align: center;}#sk-container-id-9 label.sk-toggleable__label-arrow:before {content: \"▸\";float: left;margin-right: 0.25em;color: #696969;}#sk-container-id-9 label.sk-toggleable__label-arrow:hover:before {color: black;}#sk-container-id-9 div.sk-estimator:hover label.sk-toggleable__label-arrow:before {color: black;}#sk-container-id-9 div.sk-toggleable__content {max-height: 0;max-width: 0;overflow: hidden;text-align: left;background-color: #f0f8ff;}#sk-container-id-9 div.sk-toggleable__content pre {margin: 0.2em;color: black;border-radius: 0.25em;background-color: #f0f8ff;}#sk-container-id-9 input.sk-toggleable__control:checked~div.sk-toggleable__content {max-height: 200px;max-width: 100%;overflow: auto;}#sk-container-id-9 input.sk-toggleable__control:checked~label.sk-toggleable__label-arrow:before {content: \"▾\";}#sk-container-id-9 div.sk-estimator input.sk-toggleable__control:checked~label.sk-toggleable__label {background-color: #d4ebff;}#sk-container-id-9 div.sk-label input.sk-toggleable__control:checked~label.sk-toggleable__label {background-color: #d4ebff;}#sk-container-id-9 input.sk-hidden--visually {border: 0;clip: rect(1px 1px 1px 1px);clip: rect(1px, 1px, 1px, 1px);height: 1px;margin: -1px;overflow: hidden;padding: 0;position: absolute;width: 1px;}#sk-container-id-9 div.sk-estimator {font-family: monospace;background-color: #f0f8ff;border: 1px dotted black;border-radius: 0.25em;box-sizing: border-box;margin-bottom: 0.5em;}#sk-container-id-9 div.sk-estimator:hover {background-color: #d4ebff;}#sk-container-id-9 div.sk-parallel-item::after {content: \"\";width: 100%;border-bottom: 1px solid gray;flex-grow: 1;}#sk-container-id-9 div.sk-label:hover label.sk-toggleable__label {background-color: #d4ebff;}#sk-container-id-9 div.sk-serial::before {content: \"\";position: absolute;border-left: 1px solid gray;box-sizing: border-box;top: 0;bottom: 0;left: 50%;z-index: 0;}#sk-container-id-9 div.sk-serial {display: flex;flex-direction: column;align-items: center;background-color: white;padding-right: 0.2em;padding-left: 0.2em;position: relative;}#sk-container-id-9 div.sk-item {position: relative;z-index: 1;}#sk-container-id-9 div.sk-parallel {display: flex;align-items: stretch;justify-content: center;background-color: white;position: relative;}#sk-container-id-9 div.sk-item::before, #sk-container-id-9 div.sk-parallel-item::before {content: \"\";position: absolute;border-left: 1px solid gray;box-sizing: border-box;top: 0;bottom: 0;left: 50%;z-index: -1;}#sk-container-id-9 div.sk-parallel-item {display: flex;flex-direction: column;z-index: 1;position: relative;background-color: white;}#sk-container-id-9 div.sk-parallel-item:first-child::after {align-self: flex-end;width: 50%;}#sk-container-id-9 div.sk-parallel-item:last-child::after {align-self: flex-start;width: 50%;}#sk-container-id-9 div.sk-parallel-item:only-child::after {width: 0;}#sk-container-id-9 div.sk-dashed-wrapped {border: 1px dashed gray;margin: 0 0.4em 0.5em 0.4em;box-sizing: border-box;padding-bottom: 0.4em;background-color: white;}#sk-container-id-9 div.sk-label label {font-family: monospace;font-weight: bold;display: inline-block;line-height: 1.2em;}#sk-container-id-9 div.sk-label-container {text-align: center;}#sk-container-id-9 div.sk-container {/* jupyter's `normalize.less` sets `[hidden] { display: none; }` but bootstrap.min.css set `[hidden] { display: none !important; }` so we also need the `!important` here to be able to override the default hidden behavior on the sphinx rendered scikit-learn.org. See: https://github.com/scikit-learn/scikit-learn/issues/21755 */display: inline-block !important;position: relative;}#sk-container-id-9 div.sk-text-repr-fallback {display: none;}</style><div id=\"sk-container-id-9\" class=\"sk-top-container\"><div class=\"sk-text-repr-fallback\"><pre>LinearRegression()</pre><b>In a Jupyter environment, please rerun this cell to show the HTML representation or trust the notebook. <br />On GitHub, the HTML representation is unable to render, please try loading this page with nbviewer.org.</b></div><div class=\"sk-container\" hidden><div class=\"sk-item\"><div class=\"sk-estimator sk-toggleable\"><input class=\"sk-toggleable__control sk-hidden--visually\" id=\"sk-estimator-id-45\" type=\"checkbox\" checked><label for=\"sk-estimator-id-45\" class=\"sk-toggleable__label sk-toggleable__label-arrow\">LinearRegression</label><div class=\"sk-toggleable__content\"><pre>LinearRegression()</pre></div></div></div></div></div>"
      ],
      "text/plain": [
       "LinearRegression()"
      ]
     },
     "execution_count": 137,
     "metadata": {},
     "output_type": "execute_result"
    }
   ],
   "source": [
    "# Treino do modelo M1\n",
    "modelo_M1 = LinearRegression()\n",
    "modelo_M1.fit(X_train_M1, y_train_M1)"
   ]
  },
  {
   "cell_type": "code",
   "execution_count": 138,
   "id": "9e0074c7",
   "metadata": {},
   "outputs": [
    {
     "data": {
      "text/plain": [
       "0.2731510508907977"
      ]
     },
     "execution_count": 138,
     "metadata": {},
     "output_type": "execute_result"
    }
   ],
   "source": [
    "modelo_M1.score(X_val_M1, y_val_M1)"
   ]
  },
  {
   "cell_type": "code",
   "execution_count": 139,
   "id": "2cde22bf",
   "metadata": {
    "scrolled": false
   },
   "outputs": [
    {
     "name": "stdout",
     "output_type": "stream",
     "text": [
      "Acurácia no Cross-validation pela métrica r2 é: 0.3147\n",
      "Acurácia no Cross-validation pela métrica neg_mean_absolute_error é: -1.0612\n"
     ]
    }
   ],
   "source": [
    "# Cross Validation\n",
    "scoring = ['r2', 'neg_mean_absolute_error']\n",
    "for score in scoring:\n",
    "    cv_scores = cross_val_score(modelo_M1, X_val_M1, y_val_M1,\n",
    "                               cv=5,\n",
    "                               scoring=score\n",
    "                               )\n",
    "    print(f\"Acurácia no Cross-validation pela métrica {score} é: {round(cv_scores.mean(), 4)}\")"
   ]
  },
  {
   "cell_type": "markdown",
   "id": "179d43d3",
   "metadata": {},
   "source": [
    "#### Avaliação do modelo M1"
   ]
  },
  {
   "cell_type": "markdown",
   "id": "755ec4a8",
   "metadata": {},
   "source": [
    "Somente com as notas do site 1 o modelo preditivo fica com um desempenho muito ruim. Como critério de avaliação do modelo foi utilizado o valor do **R²**. No subset de validação foi utilizada a técnica Cross Validation, e foi obtido um valor médio de 0,315. Verificando-se que o modelo de regressão explica **31,5%** da variância. A teoria diz que quanto mais variância for explicada pelo modelo de regressão, mais próximos os pontos de dados estarão em relação à linha de regressão ajustada. Nesse caso um desempenho ruim.\n",
    "\n",
    "E para neg_mean_absolute_error do sklearn, teve um **MAE**: -1,0612"
   ]
  },
  {
   "cell_type": "markdown",
   "id": "3cb5f785",
   "metadata": {},
   "source": [
    "### Treinando o Modelo M2, com a variável categórica \"ideologia\"\n",
    "\n",
    "Porque utilizar essa variável?\n",
    "<br>\n",
    "Como foi visto na análise dos dados e reforçado nesse notebook há uma separação das notas de acordo com a ideologia política do partido ao qual o candidato faz parte."
   ]
  },
  {
   "cell_type": "code",
   "execution_count": 93,
   "id": "fca52b19",
   "metadata": {},
   "outputs": [],
   "source": [
    "colunas_cat = ['ideologia']"
   ]
  },
  {
   "cell_type": "markdown",
   "id": "5682c74f",
   "metadata": {},
   "source": [
    "#### Dividindo o dataset "
   ]
  },
  {
   "cell_type": "code",
   "execution_count": 94,
   "id": "16b7d989",
   "metadata": {},
   "outputs": [
    {
     "name": "stdout",
     "output_type": "stream",
     "text": [
      "Número de linhas 341\n"
     ]
    },
    {
     "data": {
      "text/html": [
       "<div>\n",
       "<style scoped>\n",
       "    .dataframe tbody tr th:only-of-type {\n",
       "        vertical-align: middle;\n",
       "    }\n",
       "\n",
       "    .dataframe tbody tr th {\n",
       "        vertical-align: top;\n",
       "    }\n",
       "\n",
       "    .dataframe thead th {\n",
       "        text-align: right;\n",
       "    }\n",
       "</style>\n",
       "<table border=\"1\" class=\"dataframe\">\n",
       "  <thead>\n",
       "    <tr style=\"text-align: right;\">\n",
       "      <th></th>\n",
       "      <th>ideologia</th>\n",
       "      <th>n_prod_leg</th>\n",
       "      <th>n_fisc</th>\n",
       "      <th>n_mobi</th>\n",
       "      <th>n_alin_partd</th>\n",
       "    </tr>\n",
       "  </thead>\n",
       "  <tbody>\n",
       "    <tr>\n",
       "      <th>3</th>\n",
       "      <td>direita</td>\n",
       "      <td>6.400</td>\n",
       "      <td>2.900</td>\n",
       "      <td>7.300</td>\n",
       "      <td>10.000</td>\n",
       "    </tr>\n",
       "    <tr>\n",
       "      <th>417</th>\n",
       "      <td>esquerda</td>\n",
       "      <td>1.900</td>\n",
       "      <td>0.000</td>\n",
       "      <td>1.500</td>\n",
       "      <td>6.400</td>\n",
       "    </tr>\n",
       "    <tr>\n",
       "      <th>173</th>\n",
       "      <td>direita</td>\n",
       "      <td>6.700</td>\n",
       "      <td>3.100</td>\n",
       "      <td>6.100</td>\n",
       "      <td>0.900</td>\n",
       "    </tr>\n",
       "    <tr>\n",
       "      <th>60</th>\n",
       "      <td>centro</td>\n",
       "      <td>2.000</td>\n",
       "      <td>0.700</td>\n",
       "      <td>1.800</td>\n",
       "      <td>6.400</td>\n",
       "    </tr>\n",
       "    <tr>\n",
       "      <th>110</th>\n",
       "      <td>direita</td>\n",
       "      <td>3.600</td>\n",
       "      <td>0.900</td>\n",
       "      <td>4.800</td>\n",
       "      <td>8.200</td>\n",
       "    </tr>\n",
       "  </tbody>\n",
       "</table>\n",
       "</div>"
      ],
      "text/plain": [
       "    ideologia  n_prod_leg  n_fisc  n_mobi  n_alin_partd\n",
       "3     direita       6.400   2.900   7.300        10.000\n",
       "417  esquerda       1.900   0.000   1.500         6.400\n",
       "173   direita       6.700   3.100   6.100         0.900\n",
       "60     centro       2.000   0.700   1.800         6.400\n",
       "110   direita       3.600   0.900   4.800         8.200"
      ]
     },
     "execution_count": 94,
     "metadata": {},
     "output_type": "execute_result"
    }
   ],
   "source": [
    "# Variável target\n",
    "y_M2 = treino_M.nota_site2.copy()\n",
    "\n",
    "# Features preditoras\n",
    "X_M2= treino_M.drop(['nota_site2', 'nome', 'estado', 'partido', 'avg_site1', 'regiao'], axis=1).copy()\n",
    "\n",
    "print(f\"Número de linhas {X_M2.shape[0]}\")\n",
    "X_M2.head()"
   ]
  },
  {
   "cell_type": "code",
   "execution_count": 95,
   "id": "0e9718cf",
   "metadata": {},
   "outputs": [
    {
     "data": {
      "text/plain": [
       "((238, 5), (238,), (103, 5), (103,))"
      ]
     },
     "execution_count": 95,
     "metadata": {},
     "output_type": "execute_result"
    }
   ],
   "source": [
    "#dividindo os dados de treino em um subset de treino e validação com uma amostra estratificada\n",
    "X_train_M2, X_val_M2, y_train_M2, y_val_M2 = train_test_split(\n",
    "    X_M2, y_M2, \n",
    "    test_size=0.3,\n",
    "    stratify=X_M2[\"ideologia\"],\n",
    "    random_state=42\n",
    ")\n",
    "X_train_M2.shape, y_train_M2.shape, X_val_M2.shape, y_val_M2.shape"
   ]
  },
  {
   "cell_type": "code",
   "execution_count": 96,
   "id": "31c75203",
   "metadata": {
    "scrolled": true
   },
   "outputs": [
    {
     "data": {
      "text/plain": [
       "direita    0.500\n",
       "centro     0.265\n",
       "esquerda   0.235\n",
       "Name: ideologia, dtype: float64"
      ]
     },
     "metadata": {},
     "output_type": "display_data"
    },
    {
     "data": {
      "text/plain": [
       "direita    0.490\n",
       "centro     0.275\n",
       "esquerda   0.236\n",
       "Name: ideologia, dtype: float64"
      ]
     },
     "metadata": {},
     "output_type": "display_data"
    }
   ],
   "source": [
    "# verificando a estratificação entre amostra e população\n",
    "display(X_train_M2[\"ideologia\"].value_counts()/len(X_train_M2), dados[\"ideologia\"].value_counts()/len(dados))"
   ]
  },
  {
   "cell_type": "markdown",
   "id": "32e6f6c0",
   "metadata": {},
   "source": [
    "#### Pipeline\n",
    "Utilizando um pipeline para transformar a variável categórica em numérica e construir o modelo de ML."
   ]
  },
  {
   "cell_type": "markdown",
   "id": "db343da9",
   "metadata": {},
   "source": [
    "Como temos uma base de dados pequena, vamos usar validação cruzada pra garantir medidas precisas da qualidade do modelo."
   ]
  },
  {
   "cell_type": "code",
   "execution_count": 97,
   "id": "53a8e995",
   "metadata": {},
   "outputs": [],
   "source": [
    "t = [('str_categoricas', OneHotEncoder(handle_unknown='ignore'), colunas_cat)]\n",
    "\n",
    "preprocessor = ColumnTransformer(transformers=t, remainder='passthrough')"
   ]
  },
  {
   "cell_type": "code",
   "execution_count": 98,
   "id": "87b03319",
   "metadata": {},
   "outputs": [],
   "source": [
    "modelo_M2 = Pipeline(steps=[('preprocessor', preprocessor),\n",
    "                                   ('lr',LinearRegression())])"
   ]
  },
  {
   "cell_type": "code",
   "execution_count": 99,
   "id": "f001a4b2",
   "metadata": {},
   "outputs": [
    {
     "data": {
      "text/plain": [
       "[('preprocessor',\n",
       "  ColumnTransformer(remainder='passthrough',\n",
       "                    transformers=[('str_categoricas',\n",
       "                                   OneHotEncoder(handle_unknown='ignore'),\n",
       "                                   ['ideologia'])])),\n",
       " ('lr', LinearRegression())]"
      ]
     },
     "execution_count": 99,
     "metadata": {},
     "output_type": "execute_result"
    }
   ],
   "source": [
    "modelo_M2.steps"
   ]
  },
  {
   "cell_type": "code",
   "execution_count": 100,
   "id": "ac952fc8",
   "metadata": {},
   "outputs": [
    {
     "data": {
      "text/html": [
       "<style>#sk-container-id-7 {color: black;background-color: white;}#sk-container-id-7 pre{padding: 0;}#sk-container-id-7 div.sk-toggleable {background-color: white;}#sk-container-id-7 label.sk-toggleable__label {cursor: pointer;display: block;width: 100%;margin-bottom: 0;padding: 0.3em;box-sizing: border-box;text-align: center;}#sk-container-id-7 label.sk-toggleable__label-arrow:before {content: \"▸\";float: left;margin-right: 0.25em;color: #696969;}#sk-container-id-7 label.sk-toggleable__label-arrow:hover:before {color: black;}#sk-container-id-7 div.sk-estimator:hover label.sk-toggleable__label-arrow:before {color: black;}#sk-container-id-7 div.sk-toggleable__content {max-height: 0;max-width: 0;overflow: hidden;text-align: left;background-color: #f0f8ff;}#sk-container-id-7 div.sk-toggleable__content pre {margin: 0.2em;color: black;border-radius: 0.25em;background-color: #f0f8ff;}#sk-container-id-7 input.sk-toggleable__control:checked~div.sk-toggleable__content {max-height: 200px;max-width: 100%;overflow: auto;}#sk-container-id-7 input.sk-toggleable__control:checked~label.sk-toggleable__label-arrow:before {content: \"▾\";}#sk-container-id-7 div.sk-estimator input.sk-toggleable__control:checked~label.sk-toggleable__label {background-color: #d4ebff;}#sk-container-id-7 div.sk-label input.sk-toggleable__control:checked~label.sk-toggleable__label {background-color: #d4ebff;}#sk-container-id-7 input.sk-hidden--visually {border: 0;clip: rect(1px 1px 1px 1px);clip: rect(1px, 1px, 1px, 1px);height: 1px;margin: -1px;overflow: hidden;padding: 0;position: absolute;width: 1px;}#sk-container-id-7 div.sk-estimator {font-family: monospace;background-color: #f0f8ff;border: 1px dotted black;border-radius: 0.25em;box-sizing: border-box;margin-bottom: 0.5em;}#sk-container-id-7 div.sk-estimator:hover {background-color: #d4ebff;}#sk-container-id-7 div.sk-parallel-item::after {content: \"\";width: 100%;border-bottom: 1px solid gray;flex-grow: 1;}#sk-container-id-7 div.sk-label:hover label.sk-toggleable__label {background-color: #d4ebff;}#sk-container-id-7 div.sk-serial::before {content: \"\";position: absolute;border-left: 1px solid gray;box-sizing: border-box;top: 0;bottom: 0;left: 50%;z-index: 0;}#sk-container-id-7 div.sk-serial {display: flex;flex-direction: column;align-items: center;background-color: white;padding-right: 0.2em;padding-left: 0.2em;position: relative;}#sk-container-id-7 div.sk-item {position: relative;z-index: 1;}#sk-container-id-7 div.sk-parallel {display: flex;align-items: stretch;justify-content: center;background-color: white;position: relative;}#sk-container-id-7 div.sk-item::before, #sk-container-id-7 div.sk-parallel-item::before {content: \"\";position: absolute;border-left: 1px solid gray;box-sizing: border-box;top: 0;bottom: 0;left: 50%;z-index: -1;}#sk-container-id-7 div.sk-parallel-item {display: flex;flex-direction: column;z-index: 1;position: relative;background-color: white;}#sk-container-id-7 div.sk-parallel-item:first-child::after {align-self: flex-end;width: 50%;}#sk-container-id-7 div.sk-parallel-item:last-child::after {align-self: flex-start;width: 50%;}#sk-container-id-7 div.sk-parallel-item:only-child::after {width: 0;}#sk-container-id-7 div.sk-dashed-wrapped {border: 1px dashed gray;margin: 0 0.4em 0.5em 0.4em;box-sizing: border-box;padding-bottom: 0.4em;background-color: white;}#sk-container-id-7 div.sk-label label {font-family: monospace;font-weight: bold;display: inline-block;line-height: 1.2em;}#sk-container-id-7 div.sk-label-container {text-align: center;}#sk-container-id-7 div.sk-container {/* jupyter's `normalize.less` sets `[hidden] { display: none; }` but bootstrap.min.css set `[hidden] { display: none !important; }` so we also need the `!important` here to be able to override the default hidden behavior on the sphinx rendered scikit-learn.org. See: https://github.com/scikit-learn/scikit-learn/issues/21755 */display: inline-block !important;position: relative;}#sk-container-id-7 div.sk-text-repr-fallback {display: none;}</style><div id=\"sk-container-id-7\" class=\"sk-top-container\"><div class=\"sk-text-repr-fallback\"><pre>Pipeline(steps=[(&#x27;preprocessor&#x27;,\n",
       "                 ColumnTransformer(remainder=&#x27;passthrough&#x27;,\n",
       "                                   transformers=[(&#x27;str_categoricas&#x27;,\n",
       "                                                  OneHotEncoder(handle_unknown=&#x27;ignore&#x27;),\n",
       "                                                  [&#x27;ideologia&#x27;])])),\n",
       "                (&#x27;lr&#x27;, LinearRegression())])</pre><b>In a Jupyter environment, please rerun this cell to show the HTML representation or trust the notebook. <br />On GitHub, the HTML representation is unable to render, please try loading this page with nbviewer.org.</b></div><div class=\"sk-container\" hidden><div class=\"sk-item sk-dashed-wrapped\"><div class=\"sk-label-container\"><div class=\"sk-label sk-toggleable\"><input class=\"sk-toggleable__control sk-hidden--visually\" id=\"sk-estimator-id-31\" type=\"checkbox\" ><label for=\"sk-estimator-id-31\" class=\"sk-toggleable__label sk-toggleable__label-arrow\">Pipeline</label><div class=\"sk-toggleable__content\"><pre>Pipeline(steps=[(&#x27;preprocessor&#x27;,\n",
       "                 ColumnTransformer(remainder=&#x27;passthrough&#x27;,\n",
       "                                   transformers=[(&#x27;str_categoricas&#x27;,\n",
       "                                                  OneHotEncoder(handle_unknown=&#x27;ignore&#x27;),\n",
       "                                                  [&#x27;ideologia&#x27;])])),\n",
       "                (&#x27;lr&#x27;, LinearRegression())])</pre></div></div></div><div class=\"sk-serial\"><div class=\"sk-item sk-dashed-wrapped\"><div class=\"sk-label-container\"><div class=\"sk-label sk-toggleable\"><input class=\"sk-toggleable__control sk-hidden--visually\" id=\"sk-estimator-id-32\" type=\"checkbox\" ><label for=\"sk-estimator-id-32\" class=\"sk-toggleable__label sk-toggleable__label-arrow\">preprocessor: ColumnTransformer</label><div class=\"sk-toggleable__content\"><pre>ColumnTransformer(remainder=&#x27;passthrough&#x27;,\n",
       "                  transformers=[(&#x27;str_categoricas&#x27;,\n",
       "                                 OneHotEncoder(handle_unknown=&#x27;ignore&#x27;),\n",
       "                                 [&#x27;ideologia&#x27;])])</pre></div></div></div><div class=\"sk-parallel\"><div class=\"sk-parallel-item\"><div class=\"sk-item\"><div class=\"sk-label-container\"><div class=\"sk-label sk-toggleable\"><input class=\"sk-toggleable__control sk-hidden--visually\" id=\"sk-estimator-id-33\" type=\"checkbox\" ><label for=\"sk-estimator-id-33\" class=\"sk-toggleable__label sk-toggleable__label-arrow\">str_categoricas</label><div class=\"sk-toggleable__content\"><pre>[&#x27;ideologia&#x27;]</pre></div></div></div><div class=\"sk-serial\"><div class=\"sk-item\"><div class=\"sk-estimator sk-toggleable\"><input class=\"sk-toggleable__control sk-hidden--visually\" id=\"sk-estimator-id-34\" type=\"checkbox\" ><label for=\"sk-estimator-id-34\" class=\"sk-toggleable__label sk-toggleable__label-arrow\">OneHotEncoder</label><div class=\"sk-toggleable__content\"><pre>OneHotEncoder(handle_unknown=&#x27;ignore&#x27;)</pre></div></div></div></div></div></div><div class=\"sk-parallel-item\"><div class=\"sk-item\"><div class=\"sk-label-container\"><div class=\"sk-label sk-toggleable\"><input class=\"sk-toggleable__control sk-hidden--visually\" id=\"sk-estimator-id-35\" type=\"checkbox\" ><label for=\"sk-estimator-id-35\" class=\"sk-toggleable__label sk-toggleable__label-arrow\">remainder</label><div class=\"sk-toggleable__content\"><pre>[&#x27;n_prod_leg&#x27;, &#x27;n_fisc&#x27;, &#x27;n_mobi&#x27;, &#x27;n_alin_partd&#x27;]</pre></div></div></div><div class=\"sk-serial\"><div class=\"sk-item\"><div class=\"sk-estimator sk-toggleable\"><input class=\"sk-toggleable__control sk-hidden--visually\" id=\"sk-estimator-id-36\" type=\"checkbox\" ><label for=\"sk-estimator-id-36\" class=\"sk-toggleable__label sk-toggleable__label-arrow\">passthrough</label><div class=\"sk-toggleable__content\"><pre>passthrough</pre></div></div></div></div></div></div></div></div><div class=\"sk-item\"><div class=\"sk-estimator sk-toggleable\"><input class=\"sk-toggleable__control sk-hidden--visually\" id=\"sk-estimator-id-37\" type=\"checkbox\" ><label for=\"sk-estimator-id-37\" class=\"sk-toggleable__label sk-toggleable__label-arrow\">LinearRegression</label><div class=\"sk-toggleable__content\"><pre>LinearRegression()</pre></div></div></div></div></div></div></div>"
      ],
      "text/plain": [
       "Pipeline(steps=[('preprocessor',\n",
       "                 ColumnTransformer(remainder='passthrough',\n",
       "                                   transformers=[('str_categoricas',\n",
       "                                                  OneHotEncoder(handle_unknown='ignore'),\n",
       "                                                  ['ideologia'])])),\n",
       "                ('lr', LinearRegression())])"
      ]
     },
     "execution_count": 100,
     "metadata": {},
     "output_type": "execute_result"
    }
   ],
   "source": [
    "modelo_M2.fit(X_train_M2, y_train_M2)"
   ]
  },
  {
   "cell_type": "code",
   "execution_count": 101,
   "id": "3ddb1075",
   "metadata": {},
   "outputs": [
    {
     "data": {
      "text/plain": [
       "0.6498542674235368"
      ]
     },
     "execution_count": 101,
     "metadata": {},
     "output_type": "execute_result"
    }
   ],
   "source": [
    "modelo_M2.score(X_val_M2, y_val_M2)"
   ]
  },
  {
   "cell_type": "markdown",
   "id": "c1908017",
   "metadata": {},
   "source": [
    "### Usando o cross-validation"
   ]
  },
  {
   "cell_type": "code",
   "execution_count": 117,
   "id": "71a5f958",
   "metadata": {},
   "outputs": [
    {
     "name": "stdout",
     "output_type": "stream",
     "text": [
      "Acurácia no Cross-validation pela métrica r2 é: 0.5699\n",
      "Acurácia no Cross-validation pela métrica neg_mean_absolute_error é: -0.7277\n"
     ]
    }
   ],
   "source": [
    "scoring = ['r2', 'neg_mean_absolute_error']\n",
    "for score in scoring:\n",
    "    cv_scores = cross_val_score(modelo_M2, X_val_M2, y_val_M2,\n",
    "                               cv=5,\n",
    "                               scoring=score\n",
    "                               )\n",
    "    print(f\"Acurácia no Cross-validation pela métrica {score} é: {round(cv_scores.mean(), 4)}\")"
   ]
  },
  {
   "cell_type": "markdown",
   "id": "33b705b5",
   "metadata": {},
   "source": [
    "Com a adição da nova feature o modelo M2 conseguiu uma performance melhor que o anterior, apriximadamente **57%.**\n",
    "\n",
    "E para neg_mean_absolute_error do sklearn, teve um **MAE**: -0.7277"
   ]
  },
  {
   "cell_type": "code",
   "execution_count": 103,
   "id": "db1f9b46",
   "metadata": {},
   "outputs": [
    {
     "data": {
      "text/html": [
       "<div>\n",
       "<style scoped>\n",
       "    .dataframe tbody tr th:only-of-type {\n",
       "        vertical-align: middle;\n",
       "    }\n",
       "\n",
       "    .dataframe tbody tr th {\n",
       "        vertical-align: top;\n",
       "    }\n",
       "\n",
       "    .dataframe thead th {\n",
       "        text-align: right;\n",
       "    }\n",
       "</style>\n",
       "<table border=\"1\" class=\"dataframe\">\n",
       "  <thead>\n",
       "    <tr style=\"text-align: right;\">\n",
       "      <th></th>\n",
       "      <th>Coefficient</th>\n",
       "    </tr>\n",
       "  </thead>\n",
       "  <tbody>\n",
       "    <tr>\n",
       "      <th>str_categoricas__ideologia_centro</th>\n",
       "      <td>0.923</td>\n",
       "    </tr>\n",
       "    <tr>\n",
       "      <th>str_categoricas__ideologia_direita</th>\n",
       "      <td>1.154</td>\n",
       "    </tr>\n",
       "    <tr>\n",
       "      <th>str_categoricas__ideologia_esquerda</th>\n",
       "      <td>-2.077</td>\n",
       "    </tr>\n",
       "    <tr>\n",
       "      <th>remainder__n_prod_leg</th>\n",
       "      <td>0.080</td>\n",
       "    </tr>\n",
       "    <tr>\n",
       "      <th>remainder__n_fisc</th>\n",
       "      <td>-0.057</td>\n",
       "    </tr>\n",
       "    <tr>\n",
       "      <th>remainder__n_mobi</th>\n",
       "      <td>-0.031</td>\n",
       "    </tr>\n",
       "    <tr>\n",
       "      <th>remainder__n_alin_partd</th>\n",
       "      <td>-0.067</td>\n",
       "    </tr>\n",
       "  </tbody>\n",
       "</table>\n",
       "</div>"
      ],
      "text/plain": [
       "                                     Coefficient\n",
       "str_categoricas__ideologia_centro          0.923\n",
       "str_categoricas__ideologia_direita         1.154\n",
       "str_categoricas__ideologia_esquerda       -2.077\n",
       "remainder__n_prod_leg                      0.080\n",
       "remainder__n_fisc                         -0.057\n",
       "remainder__n_mobi                         -0.031\n",
       "remainder__n_alin_partd                   -0.067"
      ]
     },
     "execution_count": 103,
     "metadata": {},
     "output_type": "execute_result"
    }
   ],
   "source": [
    "coeff_df = pd.DataFrame(modelo_M2.steps[1][1].coef_, \n",
    "                        modelo_M2[:-1].get_feature_names_out(),\n",
    "                        columns=['Coefficient'])\n",
    "coeff_df"
   ]
  },
  {
   "cell_type": "markdown",
   "id": "824bffd6",
   "metadata": {},
   "source": [
    "### Modelo M3\n",
    "Além da categórica 'ideologia' a este modelo foi adicionado a categórica 'partido'."
   ]
  },
  {
   "cell_type": "code",
   "execution_count": 104,
   "id": "27503c09",
   "metadata": {},
   "outputs": [],
   "source": [
    "colunas_cat = ['ideologia', 'partido']"
   ]
  },
  {
   "cell_type": "code",
   "execution_count": 105,
   "id": "ef5f91b0",
   "metadata": {},
   "outputs": [
    {
     "name": "stdout",
     "output_type": "stream",
     "text": [
      "Número de linhas 341\n"
     ]
    },
    {
     "data": {
      "text/html": [
       "<div>\n",
       "<style scoped>\n",
       "    .dataframe tbody tr th:only-of-type {\n",
       "        vertical-align: middle;\n",
       "    }\n",
       "\n",
       "    .dataframe tbody tr th {\n",
       "        vertical-align: top;\n",
       "    }\n",
       "\n",
       "    .dataframe thead th {\n",
       "        text-align: right;\n",
       "    }\n",
       "</style>\n",
       "<table border=\"1\" class=\"dataframe\">\n",
       "  <thead>\n",
       "    <tr style=\"text-align: right;\">\n",
       "      <th></th>\n",
       "      <th>partido</th>\n",
       "      <th>ideologia</th>\n",
       "      <th>n_prod_leg</th>\n",
       "      <th>n_fisc</th>\n",
       "      <th>n_mobi</th>\n",
       "      <th>n_alin_partd</th>\n",
       "    </tr>\n",
       "  </thead>\n",
       "  <tbody>\n",
       "    <tr>\n",
       "      <th>3</th>\n",
       "      <td>NOVO</td>\n",
       "      <td>direita</td>\n",
       "      <td>6.400</td>\n",
       "      <td>2.900</td>\n",
       "      <td>7.300</td>\n",
       "      <td>10.000</td>\n",
       "    </tr>\n",
       "    <tr>\n",
       "      <th>417</th>\n",
       "      <td>PDT</td>\n",
       "      <td>esquerda</td>\n",
       "      <td>1.900</td>\n",
       "      <td>0.000</td>\n",
       "      <td>1.500</td>\n",
       "      <td>6.400</td>\n",
       "    </tr>\n",
       "    <tr>\n",
       "      <th>173</th>\n",
       "      <td>UNIÃO</td>\n",
       "      <td>direita</td>\n",
       "      <td>6.700</td>\n",
       "      <td>3.100</td>\n",
       "      <td>6.100</td>\n",
       "      <td>0.900</td>\n",
       "    </tr>\n",
       "    <tr>\n",
       "      <th>60</th>\n",
       "      <td>SOLIDARIEDADE</td>\n",
       "      <td>centro</td>\n",
       "      <td>2.000</td>\n",
       "      <td>0.700</td>\n",
       "      <td>1.800</td>\n",
       "      <td>6.400</td>\n",
       "    </tr>\n",
       "    <tr>\n",
       "      <th>110</th>\n",
       "      <td>PTB</td>\n",
       "      <td>direita</td>\n",
       "      <td>3.600</td>\n",
       "      <td>0.900</td>\n",
       "      <td>4.800</td>\n",
       "      <td>8.200</td>\n",
       "    </tr>\n",
       "  </tbody>\n",
       "</table>\n",
       "</div>"
      ],
      "text/plain": [
       "           partido ideologia  n_prod_leg  n_fisc  n_mobi  n_alin_partd\n",
       "3             NOVO   direita       6.400   2.900   7.300        10.000\n",
       "417            PDT  esquerda       1.900   0.000   1.500         6.400\n",
       "173          UNIÃO   direita       6.700   3.100   6.100         0.900\n",
       "60   SOLIDARIEDADE    centro       2.000   0.700   1.800         6.400\n",
       "110            PTB   direita       3.600   0.900   4.800         8.200"
      ]
     },
     "execution_count": 105,
     "metadata": {},
     "output_type": "execute_result"
    }
   ],
   "source": [
    "# Variável target\n",
    "y_M3 = treino_M.nota_site2.copy()\n",
    "\n",
    "# Features preditoras\n",
    "X_M3 = treino_M.drop(['nota_site2', 'nome', 'estado', 'avg_site1', 'regiao'], axis=1).copy()\n",
    "\n",
    "print(f\"Número de linhas {X_M3.shape[0]}\")\n",
    "X_M3.head()"
   ]
  },
  {
   "cell_type": "code",
   "execution_count": 106,
   "id": "37ed71a4",
   "metadata": {},
   "outputs": [
    {
     "data": {
      "text/plain": [
       "((238, 6), (238,), (103, 6), (103,))"
      ]
     },
     "execution_count": 106,
     "metadata": {},
     "output_type": "execute_result"
    }
   ],
   "source": [
    "#dividindo os dados de treino em um subset de treino e validação com uma amostra estratificada\n",
    "X_train_M3, X_val_M3, y_train_M3, y_val_M3 = train_test_split(\n",
    "    X_M3, y_M3, \n",
    "    test_size=0.3,\n",
    "    stratify=X_M3[\"ideologia\"],\n",
    "    random_state=42\n",
    ")\n",
    "X_train_M3.shape, y_train_M3.shape, X_val_M3.shape, y_val_M3.shape"
   ]
  },
  {
   "cell_type": "code",
   "execution_count": 107,
   "id": "22f50f79",
   "metadata": {},
   "outputs": [
    {
     "data": {
      "text/plain": [
       "direita    0.500\n",
       "centro     0.265\n",
       "esquerda   0.235\n",
       "Name: ideologia, dtype: float64"
      ]
     },
     "metadata": {},
     "output_type": "display_data"
    },
    {
     "data": {
      "text/plain": [
       "direita    0.490\n",
       "centro     0.275\n",
       "esquerda   0.236\n",
       "Name: ideologia, dtype: float64"
      ]
     },
     "metadata": {},
     "output_type": "display_data"
    }
   ],
   "source": [
    "# verificando a estratificação entre amostra e população\n",
    "display(X_train_M3[\"ideologia\"].value_counts()/len(X_train_M3))\n",
    "\n",
    "display(dados[\"ideologia\"].value_counts()/len(dados))"
   ]
  },
  {
   "cell_type": "code",
   "execution_count": 108,
   "id": "b0f47452",
   "metadata": {},
   "outputs": [],
   "source": [
    "t = [('str_categoricas', OneHotEncoder(handle_unknown='ignore'), colunas_cat)]\n",
    "\n",
    "preprocessor = ColumnTransformer(transformers=t, remainder='passthrough')\n",
    "\n",
    "modelo_M3 = Pipeline(steps=[('preprocessor', preprocessor),\n",
    "                                   ('lr',LinearRegression())])"
   ]
  },
  {
   "cell_type": "code",
   "execution_count": 109,
   "id": "dfb29e0a",
   "metadata": {},
   "outputs": [
    {
     "data": {
      "text/html": [
       "<style>#sk-container-id-8 {color: black;background-color: white;}#sk-container-id-8 pre{padding: 0;}#sk-container-id-8 div.sk-toggleable {background-color: white;}#sk-container-id-8 label.sk-toggleable__label {cursor: pointer;display: block;width: 100%;margin-bottom: 0;padding: 0.3em;box-sizing: border-box;text-align: center;}#sk-container-id-8 label.sk-toggleable__label-arrow:before {content: \"▸\";float: left;margin-right: 0.25em;color: #696969;}#sk-container-id-8 label.sk-toggleable__label-arrow:hover:before {color: black;}#sk-container-id-8 div.sk-estimator:hover label.sk-toggleable__label-arrow:before {color: black;}#sk-container-id-8 div.sk-toggleable__content {max-height: 0;max-width: 0;overflow: hidden;text-align: left;background-color: #f0f8ff;}#sk-container-id-8 div.sk-toggleable__content pre {margin: 0.2em;color: black;border-radius: 0.25em;background-color: #f0f8ff;}#sk-container-id-8 input.sk-toggleable__control:checked~div.sk-toggleable__content {max-height: 200px;max-width: 100%;overflow: auto;}#sk-container-id-8 input.sk-toggleable__control:checked~label.sk-toggleable__label-arrow:before {content: \"▾\";}#sk-container-id-8 div.sk-estimator input.sk-toggleable__control:checked~label.sk-toggleable__label {background-color: #d4ebff;}#sk-container-id-8 div.sk-label input.sk-toggleable__control:checked~label.sk-toggleable__label {background-color: #d4ebff;}#sk-container-id-8 input.sk-hidden--visually {border: 0;clip: rect(1px 1px 1px 1px);clip: rect(1px, 1px, 1px, 1px);height: 1px;margin: -1px;overflow: hidden;padding: 0;position: absolute;width: 1px;}#sk-container-id-8 div.sk-estimator {font-family: monospace;background-color: #f0f8ff;border: 1px dotted black;border-radius: 0.25em;box-sizing: border-box;margin-bottom: 0.5em;}#sk-container-id-8 div.sk-estimator:hover {background-color: #d4ebff;}#sk-container-id-8 div.sk-parallel-item::after {content: \"\";width: 100%;border-bottom: 1px solid gray;flex-grow: 1;}#sk-container-id-8 div.sk-label:hover label.sk-toggleable__label {background-color: #d4ebff;}#sk-container-id-8 div.sk-serial::before {content: \"\";position: absolute;border-left: 1px solid gray;box-sizing: border-box;top: 0;bottom: 0;left: 50%;z-index: 0;}#sk-container-id-8 div.sk-serial {display: flex;flex-direction: column;align-items: center;background-color: white;padding-right: 0.2em;padding-left: 0.2em;position: relative;}#sk-container-id-8 div.sk-item {position: relative;z-index: 1;}#sk-container-id-8 div.sk-parallel {display: flex;align-items: stretch;justify-content: center;background-color: white;position: relative;}#sk-container-id-8 div.sk-item::before, #sk-container-id-8 div.sk-parallel-item::before {content: \"\";position: absolute;border-left: 1px solid gray;box-sizing: border-box;top: 0;bottom: 0;left: 50%;z-index: -1;}#sk-container-id-8 div.sk-parallel-item {display: flex;flex-direction: column;z-index: 1;position: relative;background-color: white;}#sk-container-id-8 div.sk-parallel-item:first-child::after {align-self: flex-end;width: 50%;}#sk-container-id-8 div.sk-parallel-item:last-child::after {align-self: flex-start;width: 50%;}#sk-container-id-8 div.sk-parallel-item:only-child::after {width: 0;}#sk-container-id-8 div.sk-dashed-wrapped {border: 1px dashed gray;margin: 0 0.4em 0.5em 0.4em;box-sizing: border-box;padding-bottom: 0.4em;background-color: white;}#sk-container-id-8 div.sk-label label {font-family: monospace;font-weight: bold;display: inline-block;line-height: 1.2em;}#sk-container-id-8 div.sk-label-container {text-align: center;}#sk-container-id-8 div.sk-container {/* jupyter's `normalize.less` sets `[hidden] { display: none; }` but bootstrap.min.css set `[hidden] { display: none !important; }` so we also need the `!important` here to be able to override the default hidden behavior on the sphinx rendered scikit-learn.org. See: https://github.com/scikit-learn/scikit-learn/issues/21755 */display: inline-block !important;position: relative;}#sk-container-id-8 div.sk-text-repr-fallback {display: none;}</style><div id=\"sk-container-id-8\" class=\"sk-top-container\"><div class=\"sk-text-repr-fallback\"><pre>Pipeline(steps=[(&#x27;preprocessor&#x27;,\n",
       "                 ColumnTransformer(remainder=&#x27;passthrough&#x27;,\n",
       "                                   transformers=[(&#x27;str_categoricas&#x27;,\n",
       "                                                  OneHotEncoder(handle_unknown=&#x27;ignore&#x27;),\n",
       "                                                  [&#x27;ideologia&#x27;, &#x27;partido&#x27;])])),\n",
       "                (&#x27;lr&#x27;, LinearRegression())])</pre><b>In a Jupyter environment, please rerun this cell to show the HTML representation or trust the notebook. <br />On GitHub, the HTML representation is unable to render, please try loading this page with nbviewer.org.</b></div><div class=\"sk-container\" hidden><div class=\"sk-item sk-dashed-wrapped\"><div class=\"sk-label-container\"><div class=\"sk-label sk-toggleable\"><input class=\"sk-toggleable__control sk-hidden--visually\" id=\"sk-estimator-id-38\" type=\"checkbox\" ><label for=\"sk-estimator-id-38\" class=\"sk-toggleable__label sk-toggleable__label-arrow\">Pipeline</label><div class=\"sk-toggleable__content\"><pre>Pipeline(steps=[(&#x27;preprocessor&#x27;,\n",
       "                 ColumnTransformer(remainder=&#x27;passthrough&#x27;,\n",
       "                                   transformers=[(&#x27;str_categoricas&#x27;,\n",
       "                                                  OneHotEncoder(handle_unknown=&#x27;ignore&#x27;),\n",
       "                                                  [&#x27;ideologia&#x27;, &#x27;partido&#x27;])])),\n",
       "                (&#x27;lr&#x27;, LinearRegression())])</pre></div></div></div><div class=\"sk-serial\"><div class=\"sk-item sk-dashed-wrapped\"><div class=\"sk-label-container\"><div class=\"sk-label sk-toggleable\"><input class=\"sk-toggleable__control sk-hidden--visually\" id=\"sk-estimator-id-39\" type=\"checkbox\" ><label for=\"sk-estimator-id-39\" class=\"sk-toggleable__label sk-toggleable__label-arrow\">preprocessor: ColumnTransformer</label><div class=\"sk-toggleable__content\"><pre>ColumnTransformer(remainder=&#x27;passthrough&#x27;,\n",
       "                  transformers=[(&#x27;str_categoricas&#x27;,\n",
       "                                 OneHotEncoder(handle_unknown=&#x27;ignore&#x27;),\n",
       "                                 [&#x27;ideologia&#x27;, &#x27;partido&#x27;])])</pre></div></div></div><div class=\"sk-parallel\"><div class=\"sk-parallel-item\"><div class=\"sk-item\"><div class=\"sk-label-container\"><div class=\"sk-label sk-toggleable\"><input class=\"sk-toggleable__control sk-hidden--visually\" id=\"sk-estimator-id-40\" type=\"checkbox\" ><label for=\"sk-estimator-id-40\" class=\"sk-toggleable__label sk-toggleable__label-arrow\">str_categoricas</label><div class=\"sk-toggleable__content\"><pre>[&#x27;ideologia&#x27;, &#x27;partido&#x27;]</pre></div></div></div><div class=\"sk-serial\"><div class=\"sk-item\"><div class=\"sk-estimator sk-toggleable\"><input class=\"sk-toggleable__control sk-hidden--visually\" id=\"sk-estimator-id-41\" type=\"checkbox\" ><label for=\"sk-estimator-id-41\" class=\"sk-toggleable__label sk-toggleable__label-arrow\">OneHotEncoder</label><div class=\"sk-toggleable__content\"><pre>OneHotEncoder(handle_unknown=&#x27;ignore&#x27;)</pre></div></div></div></div></div></div><div class=\"sk-parallel-item\"><div class=\"sk-item\"><div class=\"sk-label-container\"><div class=\"sk-label sk-toggleable\"><input class=\"sk-toggleable__control sk-hidden--visually\" id=\"sk-estimator-id-42\" type=\"checkbox\" ><label for=\"sk-estimator-id-42\" class=\"sk-toggleable__label sk-toggleable__label-arrow\">remainder</label><div class=\"sk-toggleable__content\"><pre>[&#x27;n_prod_leg&#x27;, &#x27;n_fisc&#x27;, &#x27;n_mobi&#x27;, &#x27;n_alin_partd&#x27;]</pre></div></div></div><div class=\"sk-serial\"><div class=\"sk-item\"><div class=\"sk-estimator sk-toggleable\"><input class=\"sk-toggleable__control sk-hidden--visually\" id=\"sk-estimator-id-43\" type=\"checkbox\" ><label for=\"sk-estimator-id-43\" class=\"sk-toggleable__label sk-toggleable__label-arrow\">passthrough</label><div class=\"sk-toggleable__content\"><pre>passthrough</pre></div></div></div></div></div></div></div></div><div class=\"sk-item\"><div class=\"sk-estimator sk-toggleable\"><input class=\"sk-toggleable__control sk-hidden--visually\" id=\"sk-estimator-id-44\" type=\"checkbox\" ><label for=\"sk-estimator-id-44\" class=\"sk-toggleable__label sk-toggleable__label-arrow\">LinearRegression</label><div class=\"sk-toggleable__content\"><pre>LinearRegression()</pre></div></div></div></div></div></div></div>"
      ],
      "text/plain": [
       "Pipeline(steps=[('preprocessor',\n",
       "                 ColumnTransformer(remainder='passthrough',\n",
       "                                   transformers=[('str_categoricas',\n",
       "                                                  OneHotEncoder(handle_unknown='ignore'),\n",
       "                                                  ['ideologia', 'partido'])])),\n",
       "                ('lr', LinearRegression())])"
      ]
     },
     "execution_count": 109,
     "metadata": {},
     "output_type": "execute_result"
    }
   ],
   "source": [
    "modelo_M3.fit(X_train_M3, y_train_M3)"
   ]
  },
  {
   "cell_type": "code",
   "execution_count": 110,
   "id": "36bbe241",
   "metadata": {},
   "outputs": [
    {
     "data": {
      "text/plain": [
       "0.6906108724110565"
      ]
     },
     "execution_count": 110,
     "metadata": {},
     "output_type": "execute_result"
    }
   ],
   "source": [
    "round(modelo_M3.score(X_val_M3, y_val_M3), 4)"
   ]
  },
  {
   "cell_type": "code",
   "execution_count": 116,
   "id": "2a01b1e3",
   "metadata": {},
   "outputs": [
    {
     "name": "stdout",
     "output_type": "stream",
     "text": [
      "Acurácia no Cross-validation, pela métrica r2 é: 0.6365\n",
      "Acurácia no Cross-validation, pela métrica neg_mean_absolute_error é: -0.6944\n"
     ]
    }
   ],
   "source": [
    "scoring = ['r2', 'neg_mean_absolute_error']\n",
    "for score in scoring:\n",
    "    cv_scores = cross_val_score(modelo_M3, X_val_M3, y_val_M3,\n",
    "                               cv=5,\n",
    "                               scoring=score\n",
    "                               )\n",
    "    print(f\"Acurácia no Cross-validation, pela métrica {score} é: {round(cv_scores.mean(), 4)}\")"
   ]
  },
  {
   "cell_type": "code",
   "execution_count": 112,
   "id": "e011ce34",
   "metadata": {
    "collapsed": true
   },
   "outputs": [
    {
     "data": {
      "text/html": [
       "<div>\n",
       "<style scoped>\n",
       "    .dataframe tbody tr th:only-of-type {\n",
       "        vertical-align: middle;\n",
       "    }\n",
       "\n",
       "    .dataframe tbody tr th {\n",
       "        vertical-align: top;\n",
       "    }\n",
       "\n",
       "    .dataframe thead th {\n",
       "        text-align: right;\n",
       "    }\n",
       "</style>\n",
       "<table border=\"1\" class=\"dataframe\">\n",
       "  <thead>\n",
       "    <tr style=\"text-align: right;\">\n",
       "      <th></th>\n",
       "      <th>Coefficient</th>\n",
       "    </tr>\n",
       "  </thead>\n",
       "  <tbody>\n",
       "    <tr>\n",
       "      <th>str_categoricas__ideologia_centro</th>\n",
       "      <td>0.850</td>\n",
       "    </tr>\n",
       "    <tr>\n",
       "      <th>str_categoricas__ideologia_direita</th>\n",
       "      <td>0.946</td>\n",
       "    </tr>\n",
       "    <tr>\n",
       "      <th>str_categoricas__ideologia_esquerda</th>\n",
       "      <td>-1.795</td>\n",
       "    </tr>\n",
       "    <tr>\n",
       "      <th>str_categoricas__partido_AVANTE</th>\n",
       "      <td>-0.394</td>\n",
       "    </tr>\n",
       "    <tr>\n",
       "      <th>str_categoricas__partido_CIDADANIA</th>\n",
       "      <td>1.355</td>\n",
       "    </tr>\n",
       "    <tr>\n",
       "      <th>str_categoricas__partido_MDB</th>\n",
       "      <td>-0.328</td>\n",
       "    </tr>\n",
       "    <tr>\n",
       "      <th>str_categoricas__partido_NOVO</th>\n",
       "      <td>1.273</td>\n",
       "    </tr>\n",
       "    <tr>\n",
       "      <th>str_categoricas__partido_PATRIOTA</th>\n",
       "      <td>-0.316</td>\n",
       "    </tr>\n",
       "    <tr>\n",
       "      <th>str_categoricas__partido_PCdoB</th>\n",
       "      <td>-0.840</td>\n",
       "    </tr>\n",
       "    <tr>\n",
       "      <th>str_categoricas__partido_PDT</th>\n",
       "      <td>0.743</td>\n",
       "    </tr>\n",
       "    <tr>\n",
       "      <th>str_categoricas__partido_PL</th>\n",
       "      <td>0.230</td>\n",
       "    </tr>\n",
       "    <tr>\n",
       "      <th>str_categoricas__partido_PODE</th>\n",
       "      <td>0.050</td>\n",
       "    </tr>\n",
       "    <tr>\n",
       "      <th>str_categoricas__partido_PP</th>\n",
       "      <td>0.023</td>\n",
       "    </tr>\n",
       "    <tr>\n",
       "      <th>str_categoricas__partido_PSB</th>\n",
       "      <td>0.490</td>\n",
       "    </tr>\n",
       "    <tr>\n",
       "      <th>str_categoricas__partido_PSC</th>\n",
       "      <td>-0.157</td>\n",
       "    </tr>\n",
       "    <tr>\n",
       "      <th>str_categoricas__partido_PSD</th>\n",
       "      <td>-0.026</td>\n",
       "    </tr>\n",
       "    <tr>\n",
       "      <th>str_categoricas__partido_PSDB</th>\n",
       "      <td>0.141</td>\n",
       "    </tr>\n",
       "    <tr>\n",
       "      <th>str_categoricas__partido_PSOL</th>\n",
       "      <td>-0.660</td>\n",
       "    </tr>\n",
       "    <tr>\n",
       "      <th>str_categoricas__partido_PT</th>\n",
       "      <td>-0.994</td>\n",
       "    </tr>\n",
       "    <tr>\n",
       "      <th>str_categoricas__partido_PTB</th>\n",
       "      <td>0.473</td>\n",
       "    </tr>\n",
       "    <tr>\n",
       "      <th>str_categoricas__partido_PV</th>\n",
       "      <td>-0.412</td>\n",
       "    </tr>\n",
       "    <tr>\n",
       "      <th>str_categoricas__partido_REDE</th>\n",
       "      <td>-0.121</td>\n",
       "    </tr>\n",
       "    <tr>\n",
       "      <th>str_categoricas__partido_REPUBLICANOS</th>\n",
       "      <td>-0.328</td>\n",
       "    </tr>\n",
       "    <tr>\n",
       "      <th>str_categoricas__partido_SOLIDARIEDADE</th>\n",
       "      <td>0.051</td>\n",
       "    </tr>\n",
       "    <tr>\n",
       "      <th>str_categoricas__partido_UNIÃO</th>\n",
       "      <td>-0.251</td>\n",
       "    </tr>\n",
       "    <tr>\n",
       "      <th>remainder__n_prod_leg</th>\n",
       "      <td>0.096</td>\n",
       "    </tr>\n",
       "    <tr>\n",
       "      <th>remainder__n_fisc</th>\n",
       "      <td>-0.056</td>\n",
       "    </tr>\n",
       "    <tr>\n",
       "      <th>remainder__n_mobi</th>\n",
       "      <td>-0.031</td>\n",
       "    </tr>\n",
       "    <tr>\n",
       "      <th>remainder__n_alin_partd</th>\n",
       "      <td>-0.027</td>\n",
       "    </tr>\n",
       "  </tbody>\n",
       "</table>\n",
       "</div>"
      ],
      "text/plain": [
       "                                        Coefficient\n",
       "str_categoricas__ideologia_centro             0.850\n",
       "str_categoricas__ideologia_direita            0.946\n",
       "str_categoricas__ideologia_esquerda          -1.795\n",
       "str_categoricas__partido_AVANTE              -0.394\n",
       "str_categoricas__partido_CIDADANIA            1.355\n",
       "str_categoricas__partido_MDB                 -0.328\n",
       "str_categoricas__partido_NOVO                 1.273\n",
       "str_categoricas__partido_PATRIOTA            -0.316\n",
       "str_categoricas__partido_PCdoB               -0.840\n",
       "str_categoricas__partido_PDT                  0.743\n",
       "str_categoricas__partido_PL                   0.230\n",
       "str_categoricas__partido_PODE                 0.050\n",
       "str_categoricas__partido_PP                   0.023\n",
       "str_categoricas__partido_PSB                  0.490\n",
       "str_categoricas__partido_PSC                 -0.157\n",
       "str_categoricas__partido_PSD                 -0.026\n",
       "str_categoricas__partido_PSDB                 0.141\n",
       "str_categoricas__partido_PSOL                -0.660\n",
       "str_categoricas__partido_PT                  -0.994\n",
       "str_categoricas__partido_PTB                  0.473\n",
       "str_categoricas__partido_PV                  -0.412\n",
       "str_categoricas__partido_REDE                -0.121\n",
       "str_categoricas__partido_REPUBLICANOS        -0.328\n",
       "str_categoricas__partido_SOLIDARIEDADE        0.051\n",
       "str_categoricas__partido_UNIÃO               -0.251\n",
       "remainder__n_prod_leg                         0.096\n",
       "remainder__n_fisc                            -0.056\n",
       "remainder__n_mobi                            -0.031\n",
       "remainder__n_alin_partd                      -0.027"
      ]
     },
     "execution_count": 112,
     "metadata": {},
     "output_type": "execute_result"
    }
   ],
   "source": [
    "coeff_df = pd.DataFrame(modelo_M3.steps[1][1].coef_, \n",
    "                        modelo_M3[:-1].get_feature_names_out(),\n",
    "                        columns=['Coefficient'])\n",
    "coeff_df"
   ]
  },
  {
   "cell_type": "markdown",
   "id": "a69428fa",
   "metadata": {},
   "source": [
    "Uma melhora na base de treino, no subset de validação, foi alcançada com as mudanças para o modelo M3. Com a validação cruzada o valor de **R²** chegou a **63,6%**. \n",
    "\n",
    "E para neg_mean_absolute_error do sklearn, teve um **MAE**: -0.6944"
   ]
  },
  {
   "cell_type": "markdown",
   "id": "7c683d2b",
   "metadata": {},
   "source": [
    "## Avaliação do modelo escolhido (M3) utilizando a base de testes e outras métricas do SKlearn"
   ]
  },
  {
   "cell_type": "code",
   "execution_count": 113,
   "id": "3424bb3c",
   "metadata": {
    "scrolled": true
   },
   "outputs": [
    {
     "data": {
      "text/plain": [
       "0.7"
      ]
     },
     "execution_count": 113,
     "metadata": {},
     "output_type": "execute_result"
    }
   ],
   "source": [
    "round(modelo_M3.score(X_test, y_test), 3)"
   ]
  },
  {
   "cell_type": "code",
   "execution_count": 129,
   "id": "7970a96e",
   "metadata": {},
   "outputs": [],
   "source": [
    "pred_M3 = modelo_M3.predict(X_test)"
   ]
  },
  {
   "cell_type": "code",
   "execution_count": 130,
   "id": "d1346e55",
   "metadata": {},
   "outputs": [],
   "source": [
    "MEA_M3 = mean_absolute_error(y_test, pred_M3)\n",
    "MSE_M3 = mean_squared_error(y_test, pred_M3)\n",
    "r2_M3 = r2_score(y_test, pred_M3)"
   ]
  },
  {
   "cell_type": "code",
   "execution_count": 131,
   "id": "6bbd1ba2",
   "metadata": {},
   "outputs": [
    {
     "name": "stdout",
     "output_type": "stream",
     "text": [
      "MEA para o modelo_M3 é: 0.649\n",
      "MSE para o modelo_M3 é: 0.734\n",
      "R² para o modelo_M3 é: 0.701\n"
     ]
    }
   ],
   "source": [
    "print(f'MEA para o modelo_M3 é: {round(MEA_M3, 3)}')\n",
    "print(f'MSE para o modelo_M3 é: {round(MSE_M3, 3)}')\n",
    "print(f'R² para o modelo_M3 é: {round(r2_M3, 3)}')"
   ]
  },
  {
   "cell_type": "markdown",
   "id": "69f66438",
   "metadata": {},
   "source": [
    "Com uma base de dados não vista pelo modelo o desempenho para o **R²** foi de **70%**."
   ]
  },
  {
   "cell_type": "markdown",
   "id": "5a1fa2de",
   "metadata": {},
   "source": [
    "### Conclusão\n"
   ]
  },
  {
   "cell_type": "markdown",
   "id": "76cf5ac4",
   "metadata": {},
   "source": [
    "Dos três modelos estudados o M3 foi o que apresentou um R² mais alto. A esse modelo foram adicionadas *features* catégoricas com base na própria base de dados, isso porque foi observada uma tendência do Site 2 em agrupar notas de acordo com a ideologia do partido político dos deputados. \n",
    "\n",
    "No entanto, considerando somente as 4 notas do Site 1 (Modelo M1) **não é possível predizer** as notas do Site 2, muito provavelmente por conta da dependência das notas com a ideologia do partido. Que pode ser consequência do critério subjetivo observado na metodoligia adotada pelo Site 2 (Ranking dos políticos).\n",
    "\n",
    "Comparando o desempenho do Modelo M2 e M3 é possível dizer que o partido do deputado também influencia na nota, ou seja, especificando qual o partido do candidato fica mais fácil predizer a nota que ele tem no Site 2 utilizando as informações do Site 1. "
   ]
  }
 ],
 "metadata": {
  "kernelspec": {
   "display_name": "Python 3 (ipykernel)",
   "language": "python",
   "name": "python3"
  },
  "language_info": {
   "codemirror_mode": {
    "name": "ipython",
    "version": 3
   },
   "file_extension": ".py",
   "mimetype": "text/x-python",
   "name": "python",
   "nbconvert_exporter": "python",
   "pygments_lexer": "ipython3",
   "version": "3.9.7"
  }
 },
 "nbformat": 4,
 "nbformat_minor": 5
}
