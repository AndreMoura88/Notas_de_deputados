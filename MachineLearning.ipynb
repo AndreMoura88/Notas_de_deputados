{
 "cells": [
  {
   "cell_type": "markdown",
   "id": "b27e048d",
   "metadata": {},
   "source": [
    "Checkpoints sugeridos:\n",
    "\n",
    "1) Coleta de dados via web scrapping. Bibliotecas como Selenium e BeautifulSoup podem ajudar.\n",
    "\n",
    "2) Análise exploratória: Gráficos de dispersão entre nota padronizada dos dois rankings. São correlacionados? Existem outliers?\n",
    "\n",
    "3) Modelo explicativo: Regressão linear múltipla entre os 4 itens do ranking do Legisla Brasil e a nota do Ranking dos Políticos, por exemplo. Os 4 itens do Legisla explicam qual variabilidade do Ranking dos Políticos?\n",
    "\n",
    "4) Discussão: Por que são diferentes? Por que são iguais? Existem viéses políticos? São apartidários? Qual sua opinião que justifique os resultados?"
   ]
  },
  {
   "cell_type": "markdown",
   "id": "9ebd80e4",
   "metadata": {},
   "source": [
    "### Observações para aplicar em novas versões do modelo:\n",
    "\n",
    "- Dividir o dataset em dois, por nota ou por ideologia do partido.\n",
    "- Fazer um teste de hipóteses \n",
    "- Transformar a variável categórica em numérica e adicionar ao modelo."
   ]
  },
  {
   "cell_type": "markdown",
   "id": "71698ffd",
   "metadata": {},
   "source": [
    "### Pontuações ao longo do caminho\n",
    "\n",
    " - Modelos de ML, como Regressão Linear, assumem que os dados são normalmente distribuidos. Se essa suposição é falsa o modelo falha em dar predições precisas."
   ]
  },
  {
   "cell_type": "markdown",
   "id": "819efb30",
   "metadata": {},
   "source": [
    "# Machine Learning"
   ]
  },
  {
   "cell_type": "code",
   "execution_count": 1,
   "id": "498e53e0",
   "metadata": {
    "scrolled": true
   },
   "outputs": [
    {
     "name": "stdout",
     "output_type": "stream",
     "text": [
      "Analise_dos_dados.ipynb\n",
      "BOLOGNESI_RIBEIRO_CODATO_nova+classificacao+ideologica+VERSAO+pre+print+jun2021.pdf\n",
      "Busca automatica - webscraping.ipynb\n",
      "MachineLearning.ipynb\n",
      "Output.txt\n",
      "README.md\n",
      "Rank_pol_V3.ipynb\n",
      "Ranking_Politicos.ipynb\n",
      "Ranking_pol_site2.ipynb\n",
      "Selenium-Airbnb.ipynb\n",
      "chromedriver.exe\n",
      "click_cada_dep.ipynb\n",
      "df_after_AD.csv\n",
      "df_merge.csv\n",
      "df_site2.csv\n",
      "rank_legislabr_completo.csv\n",
      "rank_legislabr_describe.csv\n",
      "rank_legislabr_notas.csv\n",
      "\n"
     ]
    }
   ],
   "source": [
    "# bibliotecas\n",
    "import pandas as pd #processamento de dados\n",
    "import numpy as np #algebra linear\n",
    "import matplotlib.pyplot as plt # Matlab-Style\n",
    "from pandas.plotting import scatter_matrix \n",
    "%matplotlib inline\n",
    "import seaborn as sns\n",
    "color = sns.color_palette()\n",
    "sns.set_style('darkgrid')\n",
    "import warnings\n",
    "def ignore_warn(*arg, **kwargs):\n",
    "    pass\n",
    "warnings.warm = ignore_warn #ignorar avisos chatos (do sklearn e seaborn)\n",
    "\n",
    "from scipy import stats\n",
    "from scipy.stats import norm, skew #para analises estatítiscas\n",
    "\n",
    "pd.set_option('display.float_format', lambda x: '{:.3f}'.format(x)) # limita saídas de tipos floats \n",
    "                                                                    # a 3 casas decimais\n",
    "from subprocess import check_output\n",
    "print(check_output([\"ls\"]).decode(\"utf8\")) #checar os arquivos disponiveis no diretório\n",
    "\n",
    "\n",
    "# from sklearn import model_selection\n",
    "# from sklearn import linear_model\n",
    "from sklearn.linear_model import LinearRegression\n",
    "from sklearn.metrics import mean_squared_error, r2_score\n",
    "from sklearn.pipeline import Pipeline, make_pipeline\n",
    "from sklearn.preprocessing import OneHotEncoder\n",
    "from sklearn.compose import ColumnTransformer\n",
    "from sklearn.model_selection import train_test_split, KFold, cross_val_score, GridSearchCV"
   ]
  },
  {
   "cell_type": "code",
   "execution_count": 14,
   "id": "5626323b",
   "metadata": {},
   "outputs": [],
   "source": [
    "# Carregando os dados\n",
    "dados = pd.read_csv('df_after_AD.csv', dtype={'ideologia':'category'})"
   ]
  },
  {
   "cell_type": "code",
   "execution_count": 15,
   "id": "2cd42a14",
   "metadata": {},
   "outputs": [
    {
     "data": {
      "text/html": [
       "<div>\n",
       "<style scoped>\n",
       "    .dataframe tbody tr th:only-of-type {\n",
       "        vertical-align: middle;\n",
       "    }\n",
       "\n",
       "    .dataframe tbody tr th {\n",
       "        vertical-align: top;\n",
       "    }\n",
       "\n",
       "    .dataframe thead th {\n",
       "        text-align: right;\n",
       "    }\n",
       "</style>\n",
       "<table border=\"1\" class=\"dataframe\">\n",
       "  <thead>\n",
       "    <tr style=\"text-align: right;\">\n",
       "      <th></th>\n",
       "      <th>Unnamed: 0</th>\n",
       "      <th>nome</th>\n",
       "      <th>estado</th>\n",
       "      <th>partido</th>\n",
       "      <th>ideologia</th>\n",
       "      <th>n_prod_leg</th>\n",
       "      <th>n_fisc</th>\n",
       "      <th>n_mobi</th>\n",
       "      <th>n_alin_partd</th>\n",
       "      <th>avg_site1</th>\n",
       "      <th>nota_site2</th>\n",
       "    </tr>\n",
       "  </thead>\n",
       "  <tbody>\n",
       "    <tr>\n",
       "      <th>0</th>\n",
       "      <td>0</td>\n",
       "      <td>abou anni</td>\n",
       "      <td>São Paulo</td>\n",
       "      <td>UNIÃO</td>\n",
       "      <td>direita</td>\n",
       "      <td>3.800</td>\n",
       "      <td>0.900</td>\n",
       "      <td>2.400</td>\n",
       "      <td>6.400</td>\n",
       "      <td>2.853</td>\n",
       "      <td>6.550</td>\n",
       "    </tr>\n",
       "  </tbody>\n",
       "</table>\n",
       "</div>"
      ],
      "text/plain": [
       "   Unnamed: 0       nome     estado partido ideologia  n_prod_leg  n_fisc  \\\n",
       "0           0  abou anni  São Paulo   UNIÃO   direita       3.800   0.900   \n",
       "\n",
       "   n_mobi  n_alin_partd  avg_site1  nota_site2  \n",
       "0   2.400         6.400      2.853       6.550  "
      ]
     },
     "execution_count": 15,
     "metadata": {},
     "output_type": "execute_result"
    }
   ],
   "source": [
    "dados.head(1)"
   ]
  },
  {
   "cell_type": "code",
   "execution_count": 16,
   "id": "a3e1af04",
   "metadata": {
    "scrolled": true
   },
   "outputs": [
    {
     "data": {
      "text/plain": [
       "(488, 10)"
      ]
     },
     "execution_count": 16,
     "metadata": {},
     "output_type": "execute_result"
    }
   ],
   "source": [
    "# Visualizando as dimensões\n",
    "dados = dados.drop('Unnamed: 0', axis=1)\n",
    "dados.shape"
   ]
  },
  {
   "cell_type": "code",
   "execution_count": 18,
   "id": "4c720e42",
   "metadata": {},
   "outputs": [
    {
     "data": {
      "text/html": [
       "<div>\n",
       "<style scoped>\n",
       "    .dataframe tbody tr th:only-of-type {\n",
       "        vertical-align: middle;\n",
       "    }\n",
       "\n",
       "    .dataframe tbody tr th {\n",
       "        vertical-align: top;\n",
       "    }\n",
       "\n",
       "    .dataframe thead th {\n",
       "        text-align: right;\n",
       "    }\n",
       "</style>\n",
       "<table border=\"1\" class=\"dataframe\">\n",
       "  <thead>\n",
       "    <tr style=\"text-align: right;\">\n",
       "      <th></th>\n",
       "      <th>nome</th>\n",
       "      <th>estado</th>\n",
       "      <th>partido</th>\n",
       "      <th>ideologia</th>\n",
       "      <th>n_prod_leg</th>\n",
       "      <th>n_fisc</th>\n",
       "      <th>n_mobi</th>\n",
       "      <th>n_alin_partd</th>\n",
       "      <th>avg_site1</th>\n",
       "      <th>nota_site2</th>\n",
       "    </tr>\n",
       "  </thead>\n",
       "  <tbody>\n",
       "    <tr>\n",
       "      <th>0</th>\n",
       "      <td>abou anni</td>\n",
       "      <td>São Paulo</td>\n",
       "      <td>UNIÃO</td>\n",
       "      <td>direita</td>\n",
       "      <td>3.800</td>\n",
       "      <td>0.900</td>\n",
       "      <td>2.400</td>\n",
       "      <td>6.400</td>\n",
       "      <td>2.853</td>\n",
       "      <td>6.550</td>\n",
       "    </tr>\n",
       "    <tr>\n",
       "      <th>1</th>\n",
       "      <td>acacio favacho</td>\n",
       "      <td>Amapá</td>\n",
       "      <td>MDB</td>\n",
       "      <td>centro</td>\n",
       "      <td>2.600</td>\n",
       "      <td>0.200</td>\n",
       "      <td>2.100</td>\n",
       "      <td>6.400</td>\n",
       "      <td>2.029</td>\n",
       "      <td>6.120</td>\n",
       "    </tr>\n",
       "  </tbody>\n",
       "</table>\n",
       "</div>"
      ],
      "text/plain": [
       "             nome     estado partido ideologia  n_prod_leg  n_fisc  n_mobi  \\\n",
       "0       abou anni  São Paulo   UNIÃO   direita       3.800   0.900   2.400   \n",
       "1  acacio favacho      Amapá     MDB    centro       2.600   0.200   2.100   \n",
       "\n",
       "   n_alin_partd  avg_site1  nota_site2  \n",
       "0         6.400      2.853       6.550  \n",
       "1         6.400      2.029       6.120  "
      ]
     },
     "execution_count": 18,
     "metadata": {},
     "output_type": "execute_result"
    }
   ],
   "source": [
    "dados.head(2)"
   ]
  },
  {
   "cell_type": "markdown",
   "id": "45765d8b",
   "metadata": {},
   "source": [
    "**nota_site2** é a variável que desejamos predizer, no caso desse problema é a variável que queremos comparar com as variáveis independentes para saber se elas explicam a variabilidade da variável dependente."
   ]
  },
  {
   "cell_type": "markdown",
   "id": "be9b7dd7",
   "metadata": {},
   "source": [
    "## Treinando o modelo somente com as notas (Modelo M1)"
   ]
  },
  {
   "cell_type": "markdown",
   "id": "e5df756d",
   "metadata": {},
   "source": [
    "O primeiro modelo foi realizado considerando somente as notas (PRODUÇÃO LEGISLATIVA, FISCALIZAÇÃO, MOBILIZAÇÃO e ALINHAMENTO PARTIDÁRIO) oferecidas pelo Site 1 que foram usadas como variáveis preditoras para tentar explicar a nota do site 2 (politicos.org.br), utilizada como variável alvo."
   ]
  },
  {
   "cell_type": "code",
   "execution_count": 31,
   "id": "f26d5ed2",
   "metadata": {},
   "outputs": [
    {
     "data": {
      "text/plain": [
       "((341, 10), (147, 10))"
      ]
     },
     "execution_count": 31,
     "metadata": {},
     "output_type": "execute_result"
    }
   ],
   "source": [
    "# dividindo o dataset\n",
    "treino_M1, teste_M1 = train_test_split(dados, \n",
    "                                test_size=0.3,\n",
    "                                random_state=42\n",
    "                               )\n",
    "treino_M1.shape, teste_M1.shape"
   ]
  },
  {
   "cell_type": "code",
   "execution_count": 32,
   "id": "cc96e21d",
   "metadata": {},
   "outputs": [
    {
     "name": "stdout",
     "output_type": "stream",
     "text": [
      "Número de linhas 341\n"
     ]
    },
    {
     "data": {
      "text/html": [
       "<div>\n",
       "<style scoped>\n",
       "    .dataframe tbody tr th:only-of-type {\n",
       "        vertical-align: middle;\n",
       "    }\n",
       "\n",
       "    .dataframe tbody tr th {\n",
       "        vertical-align: top;\n",
       "    }\n",
       "\n",
       "    .dataframe thead th {\n",
       "        text-align: right;\n",
       "    }\n",
       "</style>\n",
       "<table border=\"1\" class=\"dataframe\">\n",
       "  <thead>\n",
       "    <tr style=\"text-align: right;\">\n",
       "      <th></th>\n",
       "      <th>n_prod_leg</th>\n",
       "      <th>n_fisc</th>\n",
       "      <th>n_mobi</th>\n",
       "      <th>n_alin_partd</th>\n",
       "      <th>avg_site1</th>\n",
       "    </tr>\n",
       "  </thead>\n",
       "  <tbody>\n",
       "    <tr>\n",
       "      <th>3</th>\n",
       "      <td>6.400</td>\n",
       "      <td>2.900</td>\n",
       "      <td>7.300</td>\n",
       "      <td>10.000</td>\n",
       "      <td>5.741</td>\n",
       "    </tr>\n",
       "    <tr>\n",
       "      <th>417</th>\n",
       "      <td>1.900</td>\n",
       "      <td>0.000</td>\n",
       "      <td>1.500</td>\n",
       "      <td>6.400</td>\n",
       "      <td>1.535</td>\n",
       "    </tr>\n",
       "    <tr>\n",
       "      <th>173</th>\n",
       "      <td>6.700</td>\n",
       "      <td>3.100</td>\n",
       "      <td>6.100</td>\n",
       "      <td>0.900</td>\n",
       "      <td>5.194</td>\n",
       "    </tr>\n",
       "    <tr>\n",
       "      <th>60</th>\n",
       "      <td>2.000</td>\n",
       "      <td>0.700</td>\n",
       "      <td>1.800</td>\n",
       "      <td>6.400</td>\n",
       "      <td>1.841</td>\n",
       "    </tr>\n",
       "    <tr>\n",
       "      <th>110</th>\n",
       "      <td>3.600</td>\n",
       "      <td>0.900</td>\n",
       "      <td>4.800</td>\n",
       "      <td>8.200</td>\n",
       "      <td>3.288</td>\n",
       "    </tr>\n",
       "  </tbody>\n",
       "</table>\n",
       "</div>"
      ],
      "text/plain": [
       "     n_prod_leg  n_fisc  n_mobi  n_alin_partd  avg_site1\n",
       "3         6.400   2.900   7.300        10.000      5.741\n",
       "417       1.900   0.000   1.500         6.400      1.535\n",
       "173       6.700   3.100   6.100         0.900      5.194\n",
       "60        2.000   0.700   1.800         6.400      1.841\n",
       "110       3.600   0.900   4.800         8.200      3.288"
      ]
     },
     "execution_count": 32,
     "metadata": {},
     "output_type": "execute_result"
    }
   ],
   "source": [
    "# Variável target\n",
    "y_M1 = treino_M1.nota_site2.copy()\n",
    "\n",
    "# Features preditoras\n",
    "X_M1 = treino_M1.drop(['nota_site2', 'nome', 'ideologia', 'estado', 'partido'], axis=1).copy()\n",
    "\n",
    "print(f\"Número de linhas {X_M1.shape[0]}\")\n",
    "X_M1.head()"
   ]
  },
  {
   "cell_type": "code",
   "execution_count": 33,
   "id": "255c7061",
   "metadata": {},
   "outputs": [
    {
     "data": {
      "text/plain": [
       "((238, 5), (238,), (103, 5), (103,))"
      ]
     },
     "execution_count": 33,
     "metadata": {},
     "output_type": "execute_result"
    }
   ],
   "source": [
    "#dividindo os dados de treino em teste e treino com uma amostra estratificada\n",
    "X_train_M1, X_val_M1, y_train_M1, y_val_M1 = train_test_split(\n",
    "    X_M1, y_M1, \n",
    "    test_size=0.3,\n",
    "    random_state=42\n",
    ")\n",
    "\n",
    "X_train_M1.shape, y_train_M1.shape, X_val_M1.shape, y_val_M1.shape"
   ]
  },
  {
   "cell_type": "code",
   "execution_count": 37,
   "id": "218803a4",
   "metadata": {},
   "outputs": [
    {
     "data": {
      "text/html": [
       "<style>#sk-container-id-3 {color: black;background-color: white;}#sk-container-id-3 pre{padding: 0;}#sk-container-id-3 div.sk-toggleable {background-color: white;}#sk-container-id-3 label.sk-toggleable__label {cursor: pointer;display: block;width: 100%;margin-bottom: 0;padding: 0.3em;box-sizing: border-box;text-align: center;}#sk-container-id-3 label.sk-toggleable__label-arrow:before {content: \"▸\";float: left;margin-right: 0.25em;color: #696969;}#sk-container-id-3 label.sk-toggleable__label-arrow:hover:before {color: black;}#sk-container-id-3 div.sk-estimator:hover label.sk-toggleable__label-arrow:before {color: black;}#sk-container-id-3 div.sk-toggleable__content {max-height: 0;max-width: 0;overflow: hidden;text-align: left;background-color: #f0f8ff;}#sk-container-id-3 div.sk-toggleable__content pre {margin: 0.2em;color: black;border-radius: 0.25em;background-color: #f0f8ff;}#sk-container-id-3 input.sk-toggleable__control:checked~div.sk-toggleable__content {max-height: 200px;max-width: 100%;overflow: auto;}#sk-container-id-3 input.sk-toggleable__control:checked~label.sk-toggleable__label-arrow:before {content: \"▾\";}#sk-container-id-3 div.sk-estimator input.sk-toggleable__control:checked~label.sk-toggleable__label {background-color: #d4ebff;}#sk-container-id-3 div.sk-label input.sk-toggleable__control:checked~label.sk-toggleable__label {background-color: #d4ebff;}#sk-container-id-3 input.sk-hidden--visually {border: 0;clip: rect(1px 1px 1px 1px);clip: rect(1px, 1px, 1px, 1px);height: 1px;margin: -1px;overflow: hidden;padding: 0;position: absolute;width: 1px;}#sk-container-id-3 div.sk-estimator {font-family: monospace;background-color: #f0f8ff;border: 1px dotted black;border-radius: 0.25em;box-sizing: border-box;margin-bottom: 0.5em;}#sk-container-id-3 div.sk-estimator:hover {background-color: #d4ebff;}#sk-container-id-3 div.sk-parallel-item::after {content: \"\";width: 100%;border-bottom: 1px solid gray;flex-grow: 1;}#sk-container-id-3 div.sk-label:hover label.sk-toggleable__label {background-color: #d4ebff;}#sk-container-id-3 div.sk-serial::before {content: \"\";position: absolute;border-left: 1px solid gray;box-sizing: border-box;top: 0;bottom: 0;left: 50%;z-index: 0;}#sk-container-id-3 div.sk-serial {display: flex;flex-direction: column;align-items: center;background-color: white;padding-right: 0.2em;padding-left: 0.2em;position: relative;}#sk-container-id-3 div.sk-item {position: relative;z-index: 1;}#sk-container-id-3 div.sk-parallel {display: flex;align-items: stretch;justify-content: center;background-color: white;position: relative;}#sk-container-id-3 div.sk-item::before, #sk-container-id-3 div.sk-parallel-item::before {content: \"\";position: absolute;border-left: 1px solid gray;box-sizing: border-box;top: 0;bottom: 0;left: 50%;z-index: -1;}#sk-container-id-3 div.sk-parallel-item {display: flex;flex-direction: column;z-index: 1;position: relative;background-color: white;}#sk-container-id-3 div.sk-parallel-item:first-child::after {align-self: flex-end;width: 50%;}#sk-container-id-3 div.sk-parallel-item:last-child::after {align-self: flex-start;width: 50%;}#sk-container-id-3 div.sk-parallel-item:only-child::after {width: 0;}#sk-container-id-3 div.sk-dashed-wrapped {border: 1px dashed gray;margin: 0 0.4em 0.5em 0.4em;box-sizing: border-box;padding-bottom: 0.4em;background-color: white;}#sk-container-id-3 div.sk-label label {font-family: monospace;font-weight: bold;display: inline-block;line-height: 1.2em;}#sk-container-id-3 div.sk-label-container {text-align: center;}#sk-container-id-3 div.sk-container {/* jupyter's `normalize.less` sets `[hidden] { display: none; }` but bootstrap.min.css set `[hidden] { display: none !important; }` so we also need the `!important` here to be able to override the default hidden behavior on the sphinx rendered scikit-learn.org. See: https://github.com/scikit-learn/scikit-learn/issues/21755 */display: inline-block !important;position: relative;}#sk-container-id-3 div.sk-text-repr-fallback {display: none;}</style><div id=\"sk-container-id-3\" class=\"sk-top-container\"><div class=\"sk-text-repr-fallback\"><pre>LinearRegression()</pre><b>In a Jupyter environment, please rerun this cell to show the HTML representation or trust the notebook. <br />On GitHub, the HTML representation is unable to render, please try loading this page with nbviewer.org.</b></div><div class=\"sk-container\" hidden><div class=\"sk-item\"><div class=\"sk-estimator sk-toggleable\"><input class=\"sk-toggleable__control sk-hidden--visually\" id=\"sk-estimator-id-7\" type=\"checkbox\" checked><label for=\"sk-estimator-id-7\" class=\"sk-toggleable__label sk-toggleable__label-arrow\">LinearRegression</label><div class=\"sk-toggleable__content\"><pre>LinearRegression()</pre></div></div></div></div></div>"
      ],
      "text/plain": [
       "LinearRegression()"
      ]
     },
     "execution_count": 37,
     "metadata": {},
     "output_type": "execute_result"
    }
   ],
   "source": [
    "# Treino do modelo M1\n",
    "modelo_M1 = LinearRegression()\n",
    "modelo_M1.fit(X_train_M1, y_train_M1)"
   ]
  },
  {
   "cell_type": "code",
   "execution_count": 38,
   "id": "9e0074c7",
   "metadata": {},
   "outputs": [
    {
     "data": {
      "text/plain": [
       "0.2731510508907976"
      ]
     },
     "execution_count": 38,
     "metadata": {},
     "output_type": "execute_result"
    }
   ],
   "source": [
    "modelo_M1.score(X_val_M1, y_val_M1)"
   ]
  },
  {
   "cell_type": "code",
   "execution_count": 39,
   "id": "2cde22bf",
   "metadata": {
    "scrolled": true
   },
   "outputs": [
    {
     "name": "stdout",
     "output_type": "stream",
     "text": [
      "Acurácia no Cross-validation: 0.31466415824726984\n"
     ]
    }
   ],
   "source": [
    "# Cross Validation\n",
    "cv_scores = cross_val_score(modelo_M1, X_val_M1, y_val_M1,\n",
    "                           cv=5,\n",
    "                           scoring='r2'\n",
    "                           )\n",
    "print(f\"Acurácia no Cross-validation: {cv_scores.mean()}\")"
   ]
  },
  {
   "cell_type": "markdown",
   "id": "179d43d3",
   "metadata": {},
   "source": [
    "##### Avaliação do modelo M1"
   ]
  },
  {
   "cell_type": "markdown",
   "id": "d55e4024",
   "metadata": {},
   "source": [
    "Aplicando um modelo de regressão linear e utilizando apenas as notas do site 1 (Legisla Brasil), temos um modelo **ruim**. O coeficiente de determinação R² é baixo, próximo aos 31%. E significa que o modelo linear explica 31% da variância da variável dependente a partir do regressores (variáveis independentes) incluídas neste modelo linear."
   ]
  },
  {
   "cell_type": "markdown",
   "id": "3cb5f785",
   "metadata": {},
   "source": [
    "### Treinando o Modelo M2, com a variável categórica \"ideologia\"\n",
    "\n",
    "Porque utilizar essa variável?\n",
    "    Como foi visto na análise dos dados há uma separação das notas de acordo com a ideologia politica do partido ao qual o candidato faz parte."
   ]
  },
  {
   "cell_type": "code",
   "execution_count": 41,
   "id": "fca52b19",
   "metadata": {},
   "outputs": [],
   "source": [
    "colunas_num = ['n_prod_leg', 'n_fisc', 'n_mobi', 'n_alin_partd', 'avg_site1', 'nota_site2']\n",
    "colunas_cat = ['ideologia']"
   ]
  },
  {
   "cell_type": "markdown",
   "id": "5682c74f",
   "metadata": {},
   "source": [
    "### Dividindo o dataset "
   ]
  },
  {
   "cell_type": "code",
   "execution_count": 42,
   "id": "9fbf14f5",
   "metadata": {},
   "outputs": [
    {
     "data": {
      "text/plain": [
       "((341, 10), (147, 10))"
      ]
     },
     "execution_count": 42,
     "metadata": {},
     "output_type": "execute_result"
    }
   ],
   "source": [
    "treino_M2, teste_M2 = train_test_split(dados, \n",
    "                                test_size=0.3,\n",
    "                                random_state=42\n",
    "                               )\n",
    "treino_M2.shape, teste_M2.shape"
   ]
  },
  {
   "cell_type": "code",
   "execution_count": 127,
   "id": "2575eed0",
   "metadata": {},
   "outputs": [],
   "source": [
    "y_test = teste_M2.nota_site2.copy()\n",
    "X_test = teste_M2.drop(['nota_site2', 'nome', 'estado', 'partido'], axis=1).copy()"
   ]
  },
  {
   "cell_type": "code",
   "execution_count": 43,
   "id": "16b7d989",
   "metadata": {},
   "outputs": [
    {
     "name": "stdout",
     "output_type": "stream",
     "text": [
      "Número de linhas 341\n"
     ]
    },
    {
     "data": {
      "text/html": [
       "<div>\n",
       "<style scoped>\n",
       "    .dataframe tbody tr th:only-of-type {\n",
       "        vertical-align: middle;\n",
       "    }\n",
       "\n",
       "    .dataframe tbody tr th {\n",
       "        vertical-align: top;\n",
       "    }\n",
       "\n",
       "    .dataframe thead th {\n",
       "        text-align: right;\n",
       "    }\n",
       "</style>\n",
       "<table border=\"1\" class=\"dataframe\">\n",
       "  <thead>\n",
       "    <tr style=\"text-align: right;\">\n",
       "      <th></th>\n",
       "      <th>ideologia</th>\n",
       "      <th>n_prod_leg</th>\n",
       "      <th>n_fisc</th>\n",
       "      <th>n_mobi</th>\n",
       "      <th>n_alin_partd</th>\n",
       "      <th>avg_site1</th>\n",
       "    </tr>\n",
       "  </thead>\n",
       "  <tbody>\n",
       "    <tr>\n",
       "      <th>3</th>\n",
       "      <td>direita</td>\n",
       "      <td>6.400</td>\n",
       "      <td>2.900</td>\n",
       "      <td>7.300</td>\n",
       "      <td>10.000</td>\n",
       "      <td>5.741</td>\n",
       "    </tr>\n",
       "    <tr>\n",
       "      <th>417</th>\n",
       "      <td>esquerda</td>\n",
       "      <td>1.900</td>\n",
       "      <td>0.000</td>\n",
       "      <td>1.500</td>\n",
       "      <td>6.400</td>\n",
       "      <td>1.535</td>\n",
       "    </tr>\n",
       "    <tr>\n",
       "      <th>173</th>\n",
       "      <td>direita</td>\n",
       "      <td>6.700</td>\n",
       "      <td>3.100</td>\n",
       "      <td>6.100</td>\n",
       "      <td>0.900</td>\n",
       "      <td>5.194</td>\n",
       "    </tr>\n",
       "    <tr>\n",
       "      <th>60</th>\n",
       "      <td>centro</td>\n",
       "      <td>2.000</td>\n",
       "      <td>0.700</td>\n",
       "      <td>1.800</td>\n",
       "      <td>6.400</td>\n",
       "      <td>1.841</td>\n",
       "    </tr>\n",
       "    <tr>\n",
       "      <th>110</th>\n",
       "      <td>direita</td>\n",
       "      <td>3.600</td>\n",
       "      <td>0.900</td>\n",
       "      <td>4.800</td>\n",
       "      <td>8.200</td>\n",
       "      <td>3.288</td>\n",
       "    </tr>\n",
       "  </tbody>\n",
       "</table>\n",
       "</div>"
      ],
      "text/plain": [
       "    ideologia  n_prod_leg  n_fisc  n_mobi  n_alin_partd  avg_site1\n",
       "3     direita       6.400   2.900   7.300        10.000      5.741\n",
       "417  esquerda       1.900   0.000   1.500         6.400      1.535\n",
       "173   direita       6.700   3.100   6.100         0.900      5.194\n",
       "60     centro       2.000   0.700   1.800         6.400      1.841\n",
       "110   direita       3.600   0.900   4.800         8.200      3.288"
      ]
     },
     "execution_count": 43,
     "metadata": {},
     "output_type": "execute_result"
    }
   ],
   "source": [
    "# Variável target\n",
    "y_M2 = treino_M2.nota_site2.copy()\n",
    "\n",
    "# Features preditoras\n",
    "X_M2= treino_M2.drop(['nota_site2', 'nome', 'estado', 'partido'], axis=1).copy()\n",
    "\n",
    "print(f\"Número de linhas {X_M2.shape[0]}\")\n",
    "X_M2.head()"
   ]
  },
  {
   "cell_type": "code",
   "execution_count": 45,
   "id": "0e9718cf",
   "metadata": {},
   "outputs": [],
   "source": [
    "#dividindo os dados de treino em teste e treino com uma amostra estratificada\n",
    "X_train_M2, X_val_M2, y_train_M2, y_val_M2 = train_test_split(\n",
    "    X_M2, y_M2, \n",
    "    test_size=0.3,\n",
    "    stratify=X[\"ideologia\"],\n",
    "    random_state=42\n",
    ")"
   ]
  },
  {
   "cell_type": "code",
   "execution_count": 46,
   "id": "95c1729b",
   "metadata": {},
   "outputs": [
    {
     "data": {
      "text/plain": [
       "((238, 6), (238,), (103, 6), (103,))"
      ]
     },
     "execution_count": 46,
     "metadata": {},
     "output_type": "execute_result"
    }
   ],
   "source": [
    "X_train_M2.shape, y_train_M2.shape, X_val_M2.shape, y_val_M2.shape"
   ]
  },
  {
   "cell_type": "code",
   "execution_count": 47,
   "id": "31c75203",
   "metadata": {
    "scrolled": true
   },
   "outputs": [
    {
     "data": {
      "text/plain": [
       "direita    0.500\n",
       "centro     0.265\n",
       "esquerda   0.235\n",
       "Name: ideologia, dtype: float64"
      ]
     },
     "execution_count": 47,
     "metadata": {},
     "output_type": "execute_result"
    }
   ],
   "source": [
    "# verificando a estratificação entre amostra e população\n",
    "X_train_M2[\"ideologia\"].value_counts()/len(X_train_M2)"
   ]
  },
  {
   "cell_type": "code",
   "execution_count": 48,
   "id": "d160a0ee",
   "metadata": {},
   "outputs": [
    {
     "data": {
      "text/plain": [
       "direita    0.490\n",
       "centro     0.275\n",
       "esquerda   0.236\n",
       "Name: ideologia, dtype: float64"
      ]
     },
     "execution_count": 48,
     "metadata": {},
     "output_type": "execute_result"
    }
   ],
   "source": [
    "dados[\"ideologia\"].value_counts()/len(dados)"
   ]
  },
  {
   "cell_type": "markdown",
   "id": "32e6f6c0",
   "metadata": {},
   "source": [
    "## Pipeline"
   ]
  },
  {
   "cell_type": "markdown",
   "id": "db343da9",
   "metadata": {},
   "source": [
    "Como temos uma base de dados pequena, vamos usar validação cruzada pra garantir medidas precisas da qualidade do modelo."
   ]
  },
  {
   "cell_type": "code",
   "execution_count": 111,
   "id": "53a8e995",
   "metadata": {},
   "outputs": [],
   "source": [
    "t = [('str_categoricas', OneHotEncoder(handle_unknown='ignore'), colunas_cat)]\n",
    "\n",
    "preprocessor = ColumnTransformer(transformers=t, remainder='passthrough')"
   ]
  },
  {
   "cell_type": "code",
   "execution_count": 112,
   "id": "87b03319",
   "metadata": {},
   "outputs": [],
   "source": [
    "pipe_transformer = Pipeline(steps=[('preprocessor', preprocessor),\n",
    "                                   ('lr',LinearRegression())])"
   ]
  },
  {
   "cell_type": "code",
   "execution_count": 113,
   "id": "f001a4b2",
   "metadata": {},
   "outputs": [
    {
     "data": {
      "text/plain": [
       "[('preprocessor',\n",
       "  ColumnTransformer(remainder='passthrough',\n",
       "                    transformers=[('str_categoricas',\n",
       "                                   OneHotEncoder(handle_unknown='ignore'),\n",
       "                                   ['ideologia'])])),\n",
       " ('lr', LinearRegression())]"
      ]
     },
     "execution_count": 113,
     "metadata": {},
     "output_type": "execute_result"
    }
   ],
   "source": [
    "pipe_transformer.steps"
   ]
  },
  {
   "cell_type": "code",
   "execution_count": 114,
   "id": "ac952fc8",
   "metadata": {},
   "outputs": [
    {
     "data": {
      "text/html": [
       "<style>#sk-container-id-14 {color: black;background-color: white;}#sk-container-id-14 pre{padding: 0;}#sk-container-id-14 div.sk-toggleable {background-color: white;}#sk-container-id-14 label.sk-toggleable__label {cursor: pointer;display: block;width: 100%;margin-bottom: 0;padding: 0.3em;box-sizing: border-box;text-align: center;}#sk-container-id-14 label.sk-toggleable__label-arrow:before {content: \"▸\";float: left;margin-right: 0.25em;color: #696969;}#sk-container-id-14 label.sk-toggleable__label-arrow:hover:before {color: black;}#sk-container-id-14 div.sk-estimator:hover label.sk-toggleable__label-arrow:before {color: black;}#sk-container-id-14 div.sk-toggleable__content {max-height: 0;max-width: 0;overflow: hidden;text-align: left;background-color: #f0f8ff;}#sk-container-id-14 div.sk-toggleable__content pre {margin: 0.2em;color: black;border-radius: 0.25em;background-color: #f0f8ff;}#sk-container-id-14 input.sk-toggleable__control:checked~div.sk-toggleable__content {max-height: 200px;max-width: 100%;overflow: auto;}#sk-container-id-14 input.sk-toggleable__control:checked~label.sk-toggleable__label-arrow:before {content: \"▾\";}#sk-container-id-14 div.sk-estimator input.sk-toggleable__control:checked~label.sk-toggleable__label {background-color: #d4ebff;}#sk-container-id-14 div.sk-label input.sk-toggleable__control:checked~label.sk-toggleable__label {background-color: #d4ebff;}#sk-container-id-14 input.sk-hidden--visually {border: 0;clip: rect(1px 1px 1px 1px);clip: rect(1px, 1px, 1px, 1px);height: 1px;margin: -1px;overflow: hidden;padding: 0;position: absolute;width: 1px;}#sk-container-id-14 div.sk-estimator {font-family: monospace;background-color: #f0f8ff;border: 1px dotted black;border-radius: 0.25em;box-sizing: border-box;margin-bottom: 0.5em;}#sk-container-id-14 div.sk-estimator:hover {background-color: #d4ebff;}#sk-container-id-14 div.sk-parallel-item::after {content: \"\";width: 100%;border-bottom: 1px solid gray;flex-grow: 1;}#sk-container-id-14 div.sk-label:hover label.sk-toggleable__label {background-color: #d4ebff;}#sk-container-id-14 div.sk-serial::before {content: \"\";position: absolute;border-left: 1px solid gray;box-sizing: border-box;top: 0;bottom: 0;left: 50%;z-index: 0;}#sk-container-id-14 div.sk-serial {display: flex;flex-direction: column;align-items: center;background-color: white;padding-right: 0.2em;padding-left: 0.2em;position: relative;}#sk-container-id-14 div.sk-item {position: relative;z-index: 1;}#sk-container-id-14 div.sk-parallel {display: flex;align-items: stretch;justify-content: center;background-color: white;position: relative;}#sk-container-id-14 div.sk-item::before, #sk-container-id-14 div.sk-parallel-item::before {content: \"\";position: absolute;border-left: 1px solid gray;box-sizing: border-box;top: 0;bottom: 0;left: 50%;z-index: -1;}#sk-container-id-14 div.sk-parallel-item {display: flex;flex-direction: column;z-index: 1;position: relative;background-color: white;}#sk-container-id-14 div.sk-parallel-item:first-child::after {align-self: flex-end;width: 50%;}#sk-container-id-14 div.sk-parallel-item:last-child::after {align-self: flex-start;width: 50%;}#sk-container-id-14 div.sk-parallel-item:only-child::after {width: 0;}#sk-container-id-14 div.sk-dashed-wrapped {border: 1px dashed gray;margin: 0 0.4em 0.5em 0.4em;box-sizing: border-box;padding-bottom: 0.4em;background-color: white;}#sk-container-id-14 div.sk-label label {font-family: monospace;font-weight: bold;display: inline-block;line-height: 1.2em;}#sk-container-id-14 div.sk-label-container {text-align: center;}#sk-container-id-14 div.sk-container {/* jupyter's `normalize.less` sets `[hidden] { display: none; }` but bootstrap.min.css set `[hidden] { display: none !important; }` so we also need the `!important` here to be able to override the default hidden behavior on the sphinx rendered scikit-learn.org. See: https://github.com/scikit-learn/scikit-learn/issues/21755 */display: inline-block !important;position: relative;}#sk-container-id-14 div.sk-text-repr-fallback {display: none;}</style><div id=\"sk-container-id-14\" class=\"sk-top-container\"><div class=\"sk-text-repr-fallback\"><pre>Pipeline(steps=[(&#x27;preprocessor&#x27;,\n",
       "                 ColumnTransformer(remainder=&#x27;passthrough&#x27;,\n",
       "                                   transformers=[(&#x27;str_categoricas&#x27;,\n",
       "                                                  OneHotEncoder(handle_unknown=&#x27;ignore&#x27;),\n",
       "                                                  [&#x27;ideologia&#x27;])])),\n",
       "                (&#x27;lr&#x27;, LinearRegression())])</pre><b>In a Jupyter environment, please rerun this cell to show the HTML representation or trust the notebook. <br />On GitHub, the HTML representation is unable to render, please try loading this page with nbviewer.org.</b></div><div class=\"sk-container\" hidden><div class=\"sk-item sk-dashed-wrapped\"><div class=\"sk-label-container\"><div class=\"sk-label sk-toggleable\"><input class=\"sk-toggleable__control sk-hidden--visually\" id=\"sk-estimator-id-28\" type=\"checkbox\" ><label for=\"sk-estimator-id-28\" class=\"sk-toggleable__label sk-toggleable__label-arrow\">Pipeline</label><div class=\"sk-toggleable__content\"><pre>Pipeline(steps=[(&#x27;preprocessor&#x27;,\n",
       "                 ColumnTransformer(remainder=&#x27;passthrough&#x27;,\n",
       "                                   transformers=[(&#x27;str_categoricas&#x27;,\n",
       "                                                  OneHotEncoder(handle_unknown=&#x27;ignore&#x27;),\n",
       "                                                  [&#x27;ideologia&#x27;])])),\n",
       "                (&#x27;lr&#x27;, LinearRegression())])</pre></div></div></div><div class=\"sk-serial\"><div class=\"sk-item sk-dashed-wrapped\"><div class=\"sk-label-container\"><div class=\"sk-label sk-toggleable\"><input class=\"sk-toggleable__control sk-hidden--visually\" id=\"sk-estimator-id-29\" type=\"checkbox\" ><label for=\"sk-estimator-id-29\" class=\"sk-toggleable__label sk-toggleable__label-arrow\">preprocessor: ColumnTransformer</label><div class=\"sk-toggleable__content\"><pre>ColumnTransformer(remainder=&#x27;passthrough&#x27;,\n",
       "                  transformers=[(&#x27;str_categoricas&#x27;,\n",
       "                                 OneHotEncoder(handle_unknown=&#x27;ignore&#x27;),\n",
       "                                 [&#x27;ideologia&#x27;])])</pre></div></div></div><div class=\"sk-parallel\"><div class=\"sk-parallel-item\"><div class=\"sk-item\"><div class=\"sk-label-container\"><div class=\"sk-label sk-toggleable\"><input class=\"sk-toggleable__control sk-hidden--visually\" id=\"sk-estimator-id-30\" type=\"checkbox\" ><label for=\"sk-estimator-id-30\" class=\"sk-toggleable__label sk-toggleable__label-arrow\">str_categoricas</label><div class=\"sk-toggleable__content\"><pre>[&#x27;ideologia&#x27;]</pre></div></div></div><div class=\"sk-serial\"><div class=\"sk-item\"><div class=\"sk-estimator sk-toggleable\"><input class=\"sk-toggleable__control sk-hidden--visually\" id=\"sk-estimator-id-31\" type=\"checkbox\" ><label for=\"sk-estimator-id-31\" class=\"sk-toggleable__label sk-toggleable__label-arrow\">OneHotEncoder</label><div class=\"sk-toggleable__content\"><pre>OneHotEncoder(handle_unknown=&#x27;ignore&#x27;)</pre></div></div></div></div></div></div><div class=\"sk-parallel-item\"><div class=\"sk-item\"><div class=\"sk-label-container\"><div class=\"sk-label sk-toggleable\"><input class=\"sk-toggleable__control sk-hidden--visually\" id=\"sk-estimator-id-32\" type=\"checkbox\" ><label for=\"sk-estimator-id-32\" class=\"sk-toggleable__label sk-toggleable__label-arrow\">remainder</label><div class=\"sk-toggleable__content\"><pre>[&#x27;n_prod_leg&#x27;, &#x27;n_fisc&#x27;, &#x27;n_mobi&#x27;, &#x27;n_alin_partd&#x27;, &#x27;avg_site1&#x27;]</pre></div></div></div><div class=\"sk-serial\"><div class=\"sk-item\"><div class=\"sk-estimator sk-toggleable\"><input class=\"sk-toggleable__control sk-hidden--visually\" id=\"sk-estimator-id-33\" type=\"checkbox\" ><label for=\"sk-estimator-id-33\" class=\"sk-toggleable__label sk-toggleable__label-arrow\">passthrough</label><div class=\"sk-toggleable__content\"><pre>passthrough</pre></div></div></div></div></div></div></div></div><div class=\"sk-item\"><div class=\"sk-estimator sk-toggleable\"><input class=\"sk-toggleable__control sk-hidden--visually\" id=\"sk-estimator-id-34\" type=\"checkbox\" ><label for=\"sk-estimator-id-34\" class=\"sk-toggleable__label sk-toggleable__label-arrow\">LinearRegression</label><div class=\"sk-toggleable__content\"><pre>LinearRegression()</pre></div></div></div></div></div></div></div>"
      ],
      "text/plain": [
       "Pipeline(steps=[('preprocessor',\n",
       "                 ColumnTransformer(remainder='passthrough',\n",
       "                                   transformers=[('str_categoricas',\n",
       "                                                  OneHotEncoder(handle_unknown='ignore'),\n",
       "                                                  ['ideologia'])])),\n",
       "                ('lr', LinearRegression())])"
      ]
     },
     "execution_count": 114,
     "metadata": {},
     "output_type": "execute_result"
    }
   ],
   "source": [
    "pipe_transformer.fit(X_train_M2, y_train_M2)"
   ]
  },
  {
   "cell_type": "code",
   "execution_count": 115,
   "id": "3ddb1075",
   "metadata": {},
   "outputs": [
    {
     "data": {
      "text/plain": [
       "0.6511458393732259"
      ]
     },
     "execution_count": 115,
     "metadata": {},
     "output_type": "execute_result"
    }
   ],
   "source": [
    "pipe_transformer.score(X_val_M2, y_val_M2)"
   ]
  },
  {
   "cell_type": "markdown",
   "id": "c1908017",
   "metadata": {},
   "source": [
    "### Usando o cross-validation"
   ]
  },
  {
   "cell_type": "code",
   "execution_count": 116,
   "id": "71a5f958",
   "metadata": {},
   "outputs": [
    {
     "name": "stdout",
     "output_type": "stream",
     "text": [
      "Acurácia no Cross-validation: 0.5688530363123041\n"
     ]
    }
   ],
   "source": [
    "cv_scores = cross_val_score(pipe_transformer, X_val_M2, y_val_M2,\n",
    "                           cv=5,\n",
    "                           scoring='r2'\n",
    "                           )\n",
    "print(f\"Acurácia no Cross-validation: {cv_scores.mean()}\")"
   ]
  },
  {
   "cell_type": "markdown",
   "id": "33b705b5",
   "metadata": {},
   "source": [
    "Com a adição da nova feature o modelo conseguiu uma performance melhor que o anterior, na casa dos **56,8.**"
   ]
  },
  {
   "cell_type": "code",
   "execution_count": 121,
   "id": "db1f9b46",
   "metadata": {},
   "outputs": [
    {
     "data": {
      "text/html": [
       "<div>\n",
       "<style scoped>\n",
       "    .dataframe tbody tr th:only-of-type {\n",
       "        vertical-align: middle;\n",
       "    }\n",
       "\n",
       "    .dataframe tbody tr th {\n",
       "        vertical-align: top;\n",
       "    }\n",
       "\n",
       "    .dataframe thead th {\n",
       "        text-align: right;\n",
       "    }\n",
       "</style>\n",
       "<table border=\"1\" class=\"dataframe\">\n",
       "  <thead>\n",
       "    <tr style=\"text-align: right;\">\n",
       "      <th></th>\n",
       "      <th>Coefficient</th>\n",
       "    </tr>\n",
       "  </thead>\n",
       "  <tbody>\n",
       "    <tr>\n",
       "      <th>0</th>\n",
       "      <td>316470253790.914</td>\n",
       "    </tr>\n",
       "    <tr>\n",
       "      <th>1</th>\n",
       "      <td>316470253791.146</td>\n",
       "    </tr>\n",
       "    <tr>\n",
       "      <th>2</th>\n",
       "      <td>316470253787.907</td>\n",
       "    </tr>\n",
       "    <tr>\n",
       "      <th>3</th>\n",
       "      <td>-5727223644362.283</td>\n",
       "    </tr>\n",
       "    <tr>\n",
       "      <th>4</th>\n",
       "      <td>-3579514777726.534</td>\n",
       "    </tr>\n",
       "    <tr>\n",
       "      <th>5</th>\n",
       "      <td>-2147708866635.918</td>\n",
       "    </tr>\n",
       "    <tr>\n",
       "      <th>6</th>\n",
       "      <td>-715902955545.364</td>\n",
       "    </tr>\n",
       "    <tr>\n",
       "      <th>7</th>\n",
       "      <td>12170350244270.025</td>\n",
       "    </tr>\n",
       "  </tbody>\n",
       "</table>\n",
       "</div>"
      ],
      "text/plain": [
       "         Coefficient\n",
       "0   316470253790.914\n",
       "1   316470253791.146\n",
       "2   316470253787.907\n",
       "3 -5727223644362.283\n",
       "4 -3579514777726.534\n",
       "5 -2147708866635.918\n",
       "6  -715902955545.364\n",
       "7 12170350244270.025"
      ]
     },
     "execution_count": 121,
     "metadata": {},
     "output_type": "execute_result"
    }
   ],
   "source": [
    "coeff_df = pd.DataFrame(pipe_transformer.steps[1][1].coef_,columns=['Coefficient'])\n",
    "coeff_df"
   ]
  },
  {
   "cell_type": "code",
   "execution_count": 117,
   "id": "3ec27d12",
   "metadata": {},
   "outputs": [
    {
     "data": {
      "text/plain": [
       "array(['str_categoricas__ideologia_centro',\n",
       "       'str_categoricas__ideologia_direita',\n",
       "       'str_categoricas__ideologia_esquerda', 'remainder__n_prod_leg',\n",
       "       'remainder__n_fisc', 'remainder__n_mobi',\n",
       "       'remainder__n_alin_partd', 'remainder__avg_site1'], dtype=object)"
      ]
     },
     "execution_count": 117,
     "metadata": {},
     "output_type": "execute_result"
    }
   ],
   "source": [
    "pipe_transformer[:-1].get_feature_names_out()"
   ]
  },
  {
   "cell_type": "code",
   "execution_count": 120,
   "id": "505c0628",
   "metadata": {},
   "outputs": [
    {
     "data": {
      "text/plain": [
       "array([ 3.16470254e+11,  3.16470254e+11,  3.16470254e+11, -5.72722364e+12,\n",
       "       -3.57951478e+12, -2.14770887e+12, -7.15902956e+11,  1.21703502e+13])"
      ]
     },
     "execution_count": 120,
     "metadata": {},
     "output_type": "execute_result"
    }
   ],
   "source": [
    "pipe_transformer.steps[1][1].coef_"
   ]
  }
 ],
 "metadata": {
  "kernelspec": {
   "display_name": "Python 3 (ipykernel)",
   "language": "python",
   "name": "python3"
  },
  "language_info": {
   "codemirror_mode": {
    "name": "ipython",
    "version": 3
   },
   "file_extension": ".py",
   "mimetype": "text/x-python",
   "name": "python",
   "nbconvert_exporter": "python",
   "pygments_lexer": "ipython3",
   "version": "3.9.7"
  }
 },
 "nbformat": 4,
 "nbformat_minor": 5
}
